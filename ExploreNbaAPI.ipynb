{
 "cells": [
  {
   "cell_type": "code",
   "execution_count": 1,
   "metadata": {},
   "outputs": [],
   "source": [
    "import numpy as np\n",
    "import pandas as pd"
   ]
  },
  {
   "cell_type": "code",
   "execution_count": 2,
   "metadata": {},
   "outputs": [],
   "source": [
    "# Import high-level information\n",
    "from nba_api.stats.static import teams\n",
    "from nba_api.stats.static import players\n",
    "from nba_api.stats.endpoints import playergamelog"
   ]
  },
  {
   "cell_type": "code",
   "execution_count": 3,
   "metadata": {},
   "outputs": [],
   "source": [
    "# R to python reference\n",
    "# https://gist.github.com/conormm/fd8b1980c28dd21cfaf6975c86c74d07"
   ]
  },
  {
   "cell_type": "code",
   "execution_count": 4,
   "metadata": {},
   "outputs": [],
   "source": [
    "# Get the first and last names of all active players.\n",
    "nbaPlayers = players.get_players()\n",
    "activePlayers = [player['full_name'] for player in nbaPlayers \n",
    "                    if player['is_active'] == True]"
   ]
  },
  {
   "cell_type": "code",
   "execution_count": 5,
   "metadata": {},
   "outputs": [],
   "source": [
    "# Pings the nba_api for a player across one or more seasons.\n",
    "#   - playerName (string): player's full name in the nba_api db.\n",
    "class PlayerStats():\n",
    "    def __init__( self, playerName ):\n",
    "        self.playerName = playerName\n",
    "        self.playerLogData = pd.DataFrame()\n",
    "        self.seasons = list()\n",
    "\n",
    "    # Get the game log for a certain player, based on their full name, across certain seasons.\n",
    "    #   - seasons (list of integers): seasons to pull game log data on.\n",
    "    #   - players (nba_api \"players\" endpoint)\n",
    "    def GetPlayerGameLog( self, seasons, players ):\n",
    "        playerDict = players.get_players()\n",
    "        curPlayer = [player for player in playerDict if player['full_name'] == self.playerName]\n",
    "        \n",
    "        playerLog = list()\n",
    "        for curSeason in seasons:\n",
    "            # Ping API separately for each season and extract response dataframe.\n",
    "            playerLog.append( playergamelog.PlayerGameLog( player_id = curPlayer[0]['id'], season = curSeason ).get_data_frames()[0] )\n",
    "        \n",
    "        # Combine all seasons.\n",
    "        playerLog = pd.concat(playerLog)\n",
    "        # Add player name.\n",
    "        playerLog = playerLog.assign( Player_Name = curPlayer[0]['full_name']  )\n",
    "        self.playerLogData = playerLog\n",
    "        self.seasons = seasons\n"
   ]
  },
  {
   "cell_type": "code",
   "execution_count": 6,
   "metadata": {},
   "outputs": [],
   "source": [
    "LukaDoncicStats = PlayerStats(playerName = 'Luka Doncic' )"
   ]
  },
  {
   "cell_type": "code",
   "execution_count": 7,
   "metadata": {},
   "outputs": [
    {
     "output_type": "execute_result",
     "data": {
      "text/plain": [
       "'Luka Doncic'"
      ]
     },
     "metadata": {},
     "execution_count": 7
    }
   ],
   "source": [
    "LukaDoncicStats.playerName"
   ]
  },
  {
   "cell_type": "code",
   "execution_count": 8,
   "metadata": {},
   "outputs": [],
   "source": [
    "LukaDoncicStats.GetPlayerGameLog(seasons=[2018,2019,2020],players=players)"
   ]
  },
  {
   "cell_type": "code",
   "execution_count": 9,
   "metadata": {},
   "outputs": [
    {
     "output_type": "execute_result",
     "data": {
      "text/plain": [
       "[2018, 2019, 2020]"
      ]
     },
     "metadata": {},
     "execution_count": 9
    }
   ],
   "source": [
    "LukaDoncicStats.seasons"
   ]
  },
  {
   "cell_type": "code",
   "execution_count": 10,
   "metadata": {},
   "outputs": [
    {
     "output_type": "execute_result",
     "data": {
      "text/plain": [
       "   SEASON_ID  Player_ID     Game_ID     GAME_DATE      MATCHUP WL  MIN  FGM  \\\n",
       "0      22018    1629029  0021801216  APR 09, 2019  DAL vs. PHX  W   32    6   \n",
       "1      22018    1629029  0021801172  APR 03, 2019  DAL vs. MIN  L   32   11   \n",
       "2      22018    1629029  0021801124  MAR 28, 2019    DAL @ MIA  L   31    6   \n",
       "3      22018    1629029  0021801114  MAR 26, 2019  DAL vs. SAC  L   36    9   \n",
       "4      22018    1629029  0021801092  MAR 23, 2019    DAL @ GSW  W   27    6   \n",
       "..       ...        ...         ...           ...          ... ..  ...  ...   \n",
       "61     22020    1629029  0022000071  JAN 01, 2021  DAL vs. MIA  W   36    9   \n",
       "62     22020    1629029  0022000059  DEC 30, 2020  DAL vs. CHA  L   24    4   \n",
       "63     22020    1629029  0022000031  DEC 27, 2020    DAL @ LAC  W   26    8   \n",
       "64     22020    1629029  0022000008  DEC 25, 2020    DAL @ LAL  L   34    9   \n",
       "65     22020    1629029  0022000004  DEC 23, 2020    DAL @ PHX  L   36   11   \n",
       "\n",
       "    FGA  FG_PCT  ...  REB  AST  STL  BLK  TOV  PF  PTS  PLUS_MINUS  \\\n",
       "0    14   0.429  ...   16   11    3    0    4   1   21          15   \n",
       "1    21   0.524  ...   12    6    0    1    4   1   27         -15   \n",
       "2    18   0.333  ...    8    7    0    0    6   4   19          -8   \n",
       "3    20   0.450  ...   12   12    0    0    4   2   28          -7   \n",
       "4    14   0.429  ...   11   10    3    0    3   3   23          29   \n",
       "..  ...     ...  ...  ...  ...  ...  ...  ...  ..  ...         ...   \n",
       "61   22   0.409  ...   15    7    0    1    5   2   27          12   \n",
       "62   10   0.400  ...    2    5    2    0    3   3   12         -27   \n",
       "63   18   0.444  ...    9    8    1    0    2   0   24          29   \n",
       "64   19   0.474  ...    4    7    0    1    3   0   27         -14   \n",
       "65   26   0.423  ...    8    5    0    0    1   2   32          -9   \n",
       "\n",
       "    VIDEO_AVAILABLE  Player_Name  \n",
       "0                 1  Luka Doncic  \n",
       "1                 1  Luka Doncic  \n",
       "2                 1  Luka Doncic  \n",
       "3                 1  Luka Doncic  \n",
       "4                 1  Luka Doncic  \n",
       "..              ...          ...  \n",
       "61                1  Luka Doncic  \n",
       "62                1  Luka Doncic  \n",
       "63                1  Luka Doncic  \n",
       "64                1  Luka Doncic  \n",
       "65                1  Luka Doncic  \n",
       "\n",
       "[199 rows x 28 columns]"
      ],
      "text/html": "<div>\n<style scoped>\n    .dataframe tbody tr th:only-of-type {\n        vertical-align: middle;\n    }\n\n    .dataframe tbody tr th {\n        vertical-align: top;\n    }\n\n    .dataframe thead th {\n        text-align: right;\n    }\n</style>\n<table border=\"1\" class=\"dataframe\">\n  <thead>\n    <tr style=\"text-align: right;\">\n      <th></th>\n      <th>SEASON_ID</th>\n      <th>Player_ID</th>\n      <th>Game_ID</th>\n      <th>GAME_DATE</th>\n      <th>MATCHUP</th>\n      <th>WL</th>\n      <th>MIN</th>\n      <th>FGM</th>\n      <th>FGA</th>\n      <th>FG_PCT</th>\n      <th>...</th>\n      <th>REB</th>\n      <th>AST</th>\n      <th>STL</th>\n      <th>BLK</th>\n      <th>TOV</th>\n      <th>PF</th>\n      <th>PTS</th>\n      <th>PLUS_MINUS</th>\n      <th>VIDEO_AVAILABLE</th>\n      <th>Player_Name</th>\n    </tr>\n  </thead>\n  <tbody>\n    <tr>\n      <td>0</td>\n      <td>22018</td>\n      <td>1629029</td>\n      <td>0021801216</td>\n      <td>APR 09, 2019</td>\n      <td>DAL vs. PHX</td>\n      <td>W</td>\n      <td>32</td>\n      <td>6</td>\n      <td>14</td>\n      <td>0.429</td>\n      <td>...</td>\n      <td>16</td>\n      <td>11</td>\n      <td>3</td>\n      <td>0</td>\n      <td>4</td>\n      <td>1</td>\n      <td>21</td>\n      <td>15</td>\n      <td>1</td>\n      <td>Luka Doncic</td>\n    </tr>\n    <tr>\n      <td>1</td>\n      <td>22018</td>\n      <td>1629029</td>\n      <td>0021801172</td>\n      <td>APR 03, 2019</td>\n      <td>DAL vs. MIN</td>\n      <td>L</td>\n      <td>32</td>\n      <td>11</td>\n      <td>21</td>\n      <td>0.524</td>\n      <td>...</td>\n      <td>12</td>\n      <td>6</td>\n      <td>0</td>\n      <td>1</td>\n      <td>4</td>\n      <td>1</td>\n      <td>27</td>\n      <td>-15</td>\n      <td>1</td>\n      <td>Luka Doncic</td>\n    </tr>\n    <tr>\n      <td>2</td>\n      <td>22018</td>\n      <td>1629029</td>\n      <td>0021801124</td>\n      <td>MAR 28, 2019</td>\n      <td>DAL @ MIA</td>\n      <td>L</td>\n      <td>31</td>\n      <td>6</td>\n      <td>18</td>\n      <td>0.333</td>\n      <td>...</td>\n      <td>8</td>\n      <td>7</td>\n      <td>0</td>\n      <td>0</td>\n      <td>6</td>\n      <td>4</td>\n      <td>19</td>\n      <td>-8</td>\n      <td>1</td>\n      <td>Luka Doncic</td>\n    </tr>\n    <tr>\n      <td>3</td>\n      <td>22018</td>\n      <td>1629029</td>\n      <td>0021801114</td>\n      <td>MAR 26, 2019</td>\n      <td>DAL vs. SAC</td>\n      <td>L</td>\n      <td>36</td>\n      <td>9</td>\n      <td>20</td>\n      <td>0.450</td>\n      <td>...</td>\n      <td>12</td>\n      <td>12</td>\n      <td>0</td>\n      <td>0</td>\n      <td>4</td>\n      <td>2</td>\n      <td>28</td>\n      <td>-7</td>\n      <td>1</td>\n      <td>Luka Doncic</td>\n    </tr>\n    <tr>\n      <td>4</td>\n      <td>22018</td>\n      <td>1629029</td>\n      <td>0021801092</td>\n      <td>MAR 23, 2019</td>\n      <td>DAL @ GSW</td>\n      <td>W</td>\n      <td>27</td>\n      <td>6</td>\n      <td>14</td>\n      <td>0.429</td>\n      <td>...</td>\n      <td>11</td>\n      <td>10</td>\n      <td>3</td>\n      <td>0</td>\n      <td>3</td>\n      <td>3</td>\n      <td>23</td>\n      <td>29</td>\n      <td>1</td>\n      <td>Luka Doncic</td>\n    </tr>\n    <tr>\n      <td>...</td>\n      <td>...</td>\n      <td>...</td>\n      <td>...</td>\n      <td>...</td>\n      <td>...</td>\n      <td>...</td>\n      <td>...</td>\n      <td>...</td>\n      <td>...</td>\n      <td>...</td>\n      <td>...</td>\n      <td>...</td>\n      <td>...</td>\n      <td>...</td>\n      <td>...</td>\n      <td>...</td>\n      <td>...</td>\n      <td>...</td>\n      <td>...</td>\n      <td>...</td>\n      <td>...</td>\n    </tr>\n    <tr>\n      <td>61</td>\n      <td>22020</td>\n      <td>1629029</td>\n      <td>0022000071</td>\n      <td>JAN 01, 2021</td>\n      <td>DAL vs. MIA</td>\n      <td>W</td>\n      <td>36</td>\n      <td>9</td>\n      <td>22</td>\n      <td>0.409</td>\n      <td>...</td>\n      <td>15</td>\n      <td>7</td>\n      <td>0</td>\n      <td>1</td>\n      <td>5</td>\n      <td>2</td>\n      <td>27</td>\n      <td>12</td>\n      <td>1</td>\n      <td>Luka Doncic</td>\n    </tr>\n    <tr>\n      <td>62</td>\n      <td>22020</td>\n      <td>1629029</td>\n      <td>0022000059</td>\n      <td>DEC 30, 2020</td>\n      <td>DAL vs. CHA</td>\n      <td>L</td>\n      <td>24</td>\n      <td>4</td>\n      <td>10</td>\n      <td>0.400</td>\n      <td>...</td>\n      <td>2</td>\n      <td>5</td>\n      <td>2</td>\n      <td>0</td>\n      <td>3</td>\n      <td>3</td>\n      <td>12</td>\n      <td>-27</td>\n      <td>1</td>\n      <td>Luka Doncic</td>\n    </tr>\n    <tr>\n      <td>63</td>\n      <td>22020</td>\n      <td>1629029</td>\n      <td>0022000031</td>\n      <td>DEC 27, 2020</td>\n      <td>DAL @ LAC</td>\n      <td>W</td>\n      <td>26</td>\n      <td>8</td>\n      <td>18</td>\n      <td>0.444</td>\n      <td>...</td>\n      <td>9</td>\n      <td>8</td>\n      <td>1</td>\n      <td>0</td>\n      <td>2</td>\n      <td>0</td>\n      <td>24</td>\n      <td>29</td>\n      <td>1</td>\n      <td>Luka Doncic</td>\n    </tr>\n    <tr>\n      <td>64</td>\n      <td>22020</td>\n      <td>1629029</td>\n      <td>0022000008</td>\n      <td>DEC 25, 2020</td>\n      <td>DAL @ LAL</td>\n      <td>L</td>\n      <td>34</td>\n      <td>9</td>\n      <td>19</td>\n      <td>0.474</td>\n      <td>...</td>\n      <td>4</td>\n      <td>7</td>\n      <td>0</td>\n      <td>1</td>\n      <td>3</td>\n      <td>0</td>\n      <td>27</td>\n      <td>-14</td>\n      <td>1</td>\n      <td>Luka Doncic</td>\n    </tr>\n    <tr>\n      <td>65</td>\n      <td>22020</td>\n      <td>1629029</td>\n      <td>0022000004</td>\n      <td>DEC 23, 2020</td>\n      <td>DAL @ PHX</td>\n      <td>L</td>\n      <td>36</td>\n      <td>11</td>\n      <td>26</td>\n      <td>0.423</td>\n      <td>...</td>\n      <td>8</td>\n      <td>5</td>\n      <td>0</td>\n      <td>0</td>\n      <td>1</td>\n      <td>2</td>\n      <td>32</td>\n      <td>-9</td>\n      <td>1</td>\n      <td>Luka Doncic</td>\n    </tr>\n  </tbody>\n</table>\n<p>199 rows × 28 columns</p>\n</div>"
     },
     "metadata": {},
     "execution_count": 10
    }
   ],
   "source": [
    "LukaDoncicStats.playerLogData"
   ]
  },
  {
   "cell_type": "code",
   "execution_count": 12,
   "metadata": {},
   "outputs": [],
   "source": [
    "# Theory is that players hunt for double doubles and triple doubles. Plot distribution of \n",
    "# rebounds when 10 points or more\n",
    "# assists when 10 points or more\n",
    "# assists when 10 points or more and 10 rebounds or more.\n",
    "# rebounds when 10 points or more and 10 assists or more.\n",
    "# - PlayerStatsData is a PlayerStats class object.\n",
    "class PlotGameLogStats():\n",
    "    def __init__( self, playerStatsData ):\n",
    "        self.playerStatsData = playerStatsData\n",
    "\n",
    "    # Plot rebounds when 10 points or more.\n",
    "    def ReboundsWhen10Points( self ):\n",
    "        curPlayerData = self.playerStatsData\n",
    "\n",
    "        plotData = curPlayerData[curPlayerData['PTS'] >= 10]\n",
    "        plotData = plotData[['REB']]\n",
    "        \n",
    "        # Plot\n",
    "        plot = plotData.plot.hist(bins = list(range(1,20)))\n",
    "        plot.set_xlabel('Rebounds')\n",
    "        plot.set_title(LukaDoncicStats.playerName +': Rebounds when 10 points or more')\n",
    "        plot.locator_params(integer=True)\n",
    "        return(plot)\n",
    "\n",
    "    # Plot assists when 10 points or more.\n",
    "    def AssistsWhen10Points( self ):\n",
    "        curPlayerData = self.playerStatsData\n",
    "        \n",
    "        plotData = curPlayerData[curPlayerData['PTS'] >= 10]\n",
    "        plotData = plotData[['AST']]\n",
    "\n",
    "        # Plot\n",
    "        plot = plotData.plot.hist(bins = list(range(1,20)))\n",
    "        plot.set_xlabel('Assists')\n",
    "        plot.set_title(LukaDoncicStats.playerName + ': Assists when 10 points or more')\n",
    "        plot.locator_params(integer=True)\n",
    "        return(plot)\n",
    "\n",
    "    # Plot rebounds when 10 points or more and 10 assists or more.\n",
    "    def Rebounds10PointsAndAssists( self ):\n",
    "        curPlayerData = self.playerStatsData\n",
    "\n",
    "        plotData = curPlayerData[(curPlayerData['PTS'] >= 10) & (curPlayerData['AST'] >= 10) ]\n",
    "        plotData = plotData[['REB']]\n",
    "\n",
    "        # Plot\n",
    "        plot = plotData.plot.hist(bins = list(range(1,20)))\n",
    "        plot.set_xlabel('Rebounds')\n",
    "        plot.set_title(LukaDoncicStats.playerName + ': Rebounds when 10 points or more and 10 assists or more')\n",
    "        plot.locator_params(integer=True)\n",
    "        return(plot)\n",
    "\n",
    "    # Plot assists when 10 points or more and 10 rebounds or more.\n",
    "    def Assists10PointsAndRebounds( self ):\n",
    "        curPlayerData = self.playerStatsData\n",
    "\n",
    "        plotData = curPlayerData[(curPlayerData['PTS'] >= 10) & (curPlayerData['REB'] >= 10) ]\n",
    "        plotData = plotData[['AST']]\n",
    "\n",
    "        # Plot\n",
    "        plot = plotData.plot.hist(bins = list(range(1,20)))\n",
    "        plot.set_xlabel('Assists')\n",
    "        plot.set_title(LukaDoncicStats.playerName + ': Assists when 10 points or more and 10 rebounds or more')\n",
    "        plot.locator_params(integer=True)\n",
    "        return(plot)\n",
    "        "
   ]
  },
  {
   "cell_type": "code",
   "execution_count": 13,
   "metadata": {},
   "outputs": [],
   "source": [
    "PlotLukaStats = PlotGameLogStats( playerStatsData = LukaDoncicStats.playerLogData )"
   ]
  },
  {
   "cell_type": "code",
   "execution_count": 15,
   "metadata": {},
   "outputs": [
    {
     "output_type": "execute_result",
     "data": {
      "text/plain": [
       "   SEASON_ID  Player_ID     Game_ID     GAME_DATE      MATCHUP WL  MIN  FGM  \\\n",
       "0      22018    1629029  0021801216  APR 09, 2019  DAL vs. PHX  W   32    6   \n",
       "1      22018    1629029  0021801172  APR 03, 2019  DAL vs. MIN  L   32   11   \n",
       "2      22018    1629029  0021801124  MAR 28, 2019    DAL @ MIA  L   31    6   \n",
       "3      22018    1629029  0021801114  MAR 26, 2019  DAL vs. SAC  L   36    9   \n",
       "4      22018    1629029  0021801092  MAR 23, 2019    DAL @ GSW  W   27    6   \n",
       "..       ...        ...         ...           ...          ... ..  ...  ...   \n",
       "61     22020    1629029  0022000071  JAN 01, 2021  DAL vs. MIA  W   36    9   \n",
       "62     22020    1629029  0022000059  DEC 30, 2020  DAL vs. CHA  L   24    4   \n",
       "63     22020    1629029  0022000031  DEC 27, 2020    DAL @ LAC  W   26    8   \n",
       "64     22020    1629029  0022000008  DEC 25, 2020    DAL @ LAL  L   34    9   \n",
       "65     22020    1629029  0022000004  DEC 23, 2020    DAL @ PHX  L   36   11   \n",
       "\n",
       "    FGA  FG_PCT  ...  REB  AST  STL  BLK  TOV  PF  PTS  PLUS_MINUS  \\\n",
       "0    14   0.429  ...   16   11    3    0    4   1   21          15   \n",
       "1    21   0.524  ...   12    6    0    1    4   1   27         -15   \n",
       "2    18   0.333  ...    8    7    0    0    6   4   19          -8   \n",
       "3    20   0.450  ...   12   12    0    0    4   2   28          -7   \n",
       "4    14   0.429  ...   11   10    3    0    3   3   23          29   \n",
       "..  ...     ...  ...  ...  ...  ...  ...  ...  ..  ...         ...   \n",
       "61   22   0.409  ...   15    7    0    1    5   2   27          12   \n",
       "62   10   0.400  ...    2    5    2    0    3   3   12         -27   \n",
       "63   18   0.444  ...    9    8    1    0    2   0   24          29   \n",
       "64   19   0.474  ...    4    7    0    1    3   0   27         -14   \n",
       "65   26   0.423  ...    8    5    0    0    1   2   32          -9   \n",
       "\n",
       "    VIDEO_AVAILABLE  Player_Name  \n",
       "0                 1  Luka Doncic  \n",
       "1                 1  Luka Doncic  \n",
       "2                 1  Luka Doncic  \n",
       "3                 1  Luka Doncic  \n",
       "4                 1  Luka Doncic  \n",
       "..              ...          ...  \n",
       "61                1  Luka Doncic  \n",
       "62                1  Luka Doncic  \n",
       "63                1  Luka Doncic  \n",
       "64                1  Luka Doncic  \n",
       "65                1  Luka Doncic  \n",
       "\n",
       "[199 rows x 28 columns]"
      ],
      "text/html": "<div>\n<style scoped>\n    .dataframe tbody tr th:only-of-type {\n        vertical-align: middle;\n    }\n\n    .dataframe tbody tr th {\n        vertical-align: top;\n    }\n\n    .dataframe thead th {\n        text-align: right;\n    }\n</style>\n<table border=\"1\" class=\"dataframe\">\n  <thead>\n    <tr style=\"text-align: right;\">\n      <th></th>\n      <th>SEASON_ID</th>\n      <th>Player_ID</th>\n      <th>Game_ID</th>\n      <th>GAME_DATE</th>\n      <th>MATCHUP</th>\n      <th>WL</th>\n      <th>MIN</th>\n      <th>FGM</th>\n      <th>FGA</th>\n      <th>FG_PCT</th>\n      <th>...</th>\n      <th>REB</th>\n      <th>AST</th>\n      <th>STL</th>\n      <th>BLK</th>\n      <th>TOV</th>\n      <th>PF</th>\n      <th>PTS</th>\n      <th>PLUS_MINUS</th>\n      <th>VIDEO_AVAILABLE</th>\n      <th>Player_Name</th>\n    </tr>\n  </thead>\n  <tbody>\n    <tr>\n      <td>0</td>\n      <td>22018</td>\n      <td>1629029</td>\n      <td>0021801216</td>\n      <td>APR 09, 2019</td>\n      <td>DAL vs. PHX</td>\n      <td>W</td>\n      <td>32</td>\n      <td>6</td>\n      <td>14</td>\n      <td>0.429</td>\n      <td>...</td>\n      <td>16</td>\n      <td>11</td>\n      <td>3</td>\n      <td>0</td>\n      <td>4</td>\n      <td>1</td>\n      <td>21</td>\n      <td>15</td>\n      <td>1</td>\n      <td>Luka Doncic</td>\n    </tr>\n    <tr>\n      <td>1</td>\n      <td>22018</td>\n      <td>1629029</td>\n      <td>0021801172</td>\n      <td>APR 03, 2019</td>\n      <td>DAL vs. MIN</td>\n      <td>L</td>\n      <td>32</td>\n      <td>11</td>\n      <td>21</td>\n      <td>0.524</td>\n      <td>...</td>\n      <td>12</td>\n      <td>6</td>\n      <td>0</td>\n      <td>1</td>\n      <td>4</td>\n      <td>1</td>\n      <td>27</td>\n      <td>-15</td>\n      <td>1</td>\n      <td>Luka Doncic</td>\n    </tr>\n    <tr>\n      <td>2</td>\n      <td>22018</td>\n      <td>1629029</td>\n      <td>0021801124</td>\n      <td>MAR 28, 2019</td>\n      <td>DAL @ MIA</td>\n      <td>L</td>\n      <td>31</td>\n      <td>6</td>\n      <td>18</td>\n      <td>0.333</td>\n      <td>...</td>\n      <td>8</td>\n      <td>7</td>\n      <td>0</td>\n      <td>0</td>\n      <td>6</td>\n      <td>4</td>\n      <td>19</td>\n      <td>-8</td>\n      <td>1</td>\n      <td>Luka Doncic</td>\n    </tr>\n    <tr>\n      <td>3</td>\n      <td>22018</td>\n      <td>1629029</td>\n      <td>0021801114</td>\n      <td>MAR 26, 2019</td>\n      <td>DAL vs. SAC</td>\n      <td>L</td>\n      <td>36</td>\n      <td>9</td>\n      <td>20</td>\n      <td>0.450</td>\n      <td>...</td>\n      <td>12</td>\n      <td>12</td>\n      <td>0</td>\n      <td>0</td>\n      <td>4</td>\n      <td>2</td>\n      <td>28</td>\n      <td>-7</td>\n      <td>1</td>\n      <td>Luka Doncic</td>\n    </tr>\n    <tr>\n      <td>4</td>\n      <td>22018</td>\n      <td>1629029</td>\n      <td>0021801092</td>\n      <td>MAR 23, 2019</td>\n      <td>DAL @ GSW</td>\n      <td>W</td>\n      <td>27</td>\n      <td>6</td>\n      <td>14</td>\n      <td>0.429</td>\n      <td>...</td>\n      <td>11</td>\n      <td>10</td>\n      <td>3</td>\n      <td>0</td>\n      <td>3</td>\n      <td>3</td>\n      <td>23</td>\n      <td>29</td>\n      <td>1</td>\n      <td>Luka Doncic</td>\n    </tr>\n    <tr>\n      <td>...</td>\n      <td>...</td>\n      <td>...</td>\n      <td>...</td>\n      <td>...</td>\n      <td>...</td>\n      <td>...</td>\n      <td>...</td>\n      <td>...</td>\n      <td>...</td>\n      <td>...</td>\n      <td>...</td>\n      <td>...</td>\n      <td>...</td>\n      <td>...</td>\n      <td>...</td>\n      <td>...</td>\n      <td>...</td>\n      <td>...</td>\n      <td>...</td>\n      <td>...</td>\n      <td>...</td>\n    </tr>\n    <tr>\n      <td>61</td>\n      <td>22020</td>\n      <td>1629029</td>\n      <td>0022000071</td>\n      <td>JAN 01, 2021</td>\n      <td>DAL vs. MIA</td>\n      <td>W</td>\n      <td>36</td>\n      <td>9</td>\n      <td>22</td>\n      <td>0.409</td>\n      <td>...</td>\n      <td>15</td>\n      <td>7</td>\n      <td>0</td>\n      <td>1</td>\n      <td>5</td>\n      <td>2</td>\n      <td>27</td>\n      <td>12</td>\n      <td>1</td>\n      <td>Luka Doncic</td>\n    </tr>\n    <tr>\n      <td>62</td>\n      <td>22020</td>\n      <td>1629029</td>\n      <td>0022000059</td>\n      <td>DEC 30, 2020</td>\n      <td>DAL vs. CHA</td>\n      <td>L</td>\n      <td>24</td>\n      <td>4</td>\n      <td>10</td>\n      <td>0.400</td>\n      <td>...</td>\n      <td>2</td>\n      <td>5</td>\n      <td>2</td>\n      <td>0</td>\n      <td>3</td>\n      <td>3</td>\n      <td>12</td>\n      <td>-27</td>\n      <td>1</td>\n      <td>Luka Doncic</td>\n    </tr>\n    <tr>\n      <td>63</td>\n      <td>22020</td>\n      <td>1629029</td>\n      <td>0022000031</td>\n      <td>DEC 27, 2020</td>\n      <td>DAL @ LAC</td>\n      <td>W</td>\n      <td>26</td>\n      <td>8</td>\n      <td>18</td>\n      <td>0.444</td>\n      <td>...</td>\n      <td>9</td>\n      <td>8</td>\n      <td>1</td>\n      <td>0</td>\n      <td>2</td>\n      <td>0</td>\n      <td>24</td>\n      <td>29</td>\n      <td>1</td>\n      <td>Luka Doncic</td>\n    </tr>\n    <tr>\n      <td>64</td>\n      <td>22020</td>\n      <td>1629029</td>\n      <td>0022000008</td>\n      <td>DEC 25, 2020</td>\n      <td>DAL @ LAL</td>\n      <td>L</td>\n      <td>34</td>\n      <td>9</td>\n      <td>19</td>\n      <td>0.474</td>\n      <td>...</td>\n      <td>4</td>\n      <td>7</td>\n      <td>0</td>\n      <td>1</td>\n      <td>3</td>\n      <td>0</td>\n      <td>27</td>\n      <td>-14</td>\n      <td>1</td>\n      <td>Luka Doncic</td>\n    </tr>\n    <tr>\n      <td>65</td>\n      <td>22020</td>\n      <td>1629029</td>\n      <td>0022000004</td>\n      <td>DEC 23, 2020</td>\n      <td>DAL @ PHX</td>\n      <td>L</td>\n      <td>36</td>\n      <td>11</td>\n      <td>26</td>\n      <td>0.423</td>\n      <td>...</td>\n      <td>8</td>\n      <td>5</td>\n      <td>0</td>\n      <td>0</td>\n      <td>1</td>\n      <td>2</td>\n      <td>32</td>\n      <td>-9</td>\n      <td>1</td>\n      <td>Luka Doncic</td>\n    </tr>\n  </tbody>\n</table>\n<p>199 rows × 28 columns</p>\n</div>"
     },
     "metadata": {},
     "execution_count": 15
    }
   ],
   "source": [
    "PlotLukaStats.playerStatsData"
   ]
  },
  {
   "cell_type": "code",
   "execution_count": 22,
   "metadata": {},
   "outputs": [
    {
     "output_type": "execute_result",
     "data": {
      "text/plain": [
       "<matplotlib.axes._subplots.AxesSubplot at 0x24e0a67c7c8>"
      ]
     },
     "metadata": {},
     "execution_count": 22
    },
    {
     "output_type": "display_data",
     "data": {
      "text/plain": "<Figure size 432x288 with 1 Axes>",
      "image/svg+xml": "<?xml version=\"1.0\" encoding=\"utf-8\" standalone=\"no\"?>\r\n<!DOCTYPE svg PUBLIC \"-//W3C//DTD SVG 1.1//EN\"\r\n  \"http://www.w3.org/Graphics/SVG/1.1/DTD/svg11.dtd\">\r\n<!-- Created with matplotlib (https://matplotlib.org/) -->\r\n<svg height=\"277.314375pt\" version=\"1.1\" viewBox=\"0 0 440.739375 277.314375\" width=\"440.739375pt\" xmlns=\"http://www.w3.org/2000/svg\" xmlns:xlink=\"http://www.w3.org/1999/xlink\">\r\n <defs>\r\n  <style type=\"text/css\">\r\n*{stroke-linecap:butt;stroke-linejoin:round;}\r\n  </style>\r\n </defs>\r\n <g id=\"figure_1\">\r\n  <g id=\"patch_1\">\r\n   <path d=\"M 0 277.314375 \r\nL 440.739375 277.314375 \r\nL 440.739375 0 \r\nL 0 0 \r\nz\r\n\" style=\"fill:none;\"/>\r\n  </g>\r\n  <g id=\"axes_1\">\r\n   <g id=\"patch_2\">\r\n    <path d=\"M 52.969687 239.758125 \r\nL 387.769687 239.758125 \r\nL 387.769687 22.318125 \r\nL 52.969687 22.318125 \r\nz\r\n\" style=\"fill:#ffffff;\"/>\r\n   </g>\r\n   <g id=\"patch_3\">\r\n    <path clip-path=\"url(#pdc42c27bf9)\" d=\"M 68.187869 239.758125 \r\nL 85.09696 239.758125 \r\nL 85.09696 239.758125 \r\nL 68.187869 239.758125 \r\nz\r\n\" style=\"fill:#1f77b4;\"/>\r\n   </g>\r\n   <g id=\"patch_4\">\r\n    <path clip-path=\"url(#pdc42c27bf9)\" d=\"M 85.09696 239.758125 \r\nL 102.006051 239.758125 \r\nL 102.006051 239.758125 \r\nL 85.09696 239.758125 \r\nz\r\n\" style=\"fill:#1f77b4;\"/>\r\n   </g>\r\n   <g id=\"patch_5\">\r\n    <path clip-path=\"url(#pdc42c27bf9)\" d=\"M 102.006051 239.758125 \r\nL 118.915142 239.758125 \r\nL 118.915142 207.898784 \r\nL 102.006051 207.898784 \r\nz\r\n\" style=\"fill:#1f77b4;\"/>\r\n   </g>\r\n   <g id=\"patch_6\">\r\n    <path clip-path=\"url(#pdc42c27bf9)\" d=\"M 118.915142 239.758125 \r\nL 135.824233 239.758125 \r\nL 135.824233 223.828455 \r\nL 118.915142 223.828455 \r\nz\r\n\" style=\"fill:#1f77b4;\"/>\r\n   </g>\r\n   <g id=\"patch_7\">\r\n    <path clip-path=\"url(#pdc42c27bf9)\" d=\"M 135.824233 239.758125 \r\nL 152.733324 239.758125 \r\nL 152.733324 207.898784 \r\nL 135.824233 207.898784 \r\nz\r\n\" style=\"fill:#1f77b4;\"/>\r\n   </g>\r\n   <g id=\"patch_8\">\r\n    <path clip-path=\"url(#pdc42c27bf9)\" d=\"M 152.733324 239.758125 \r\nL 169.642415 239.758125 \r\nL 169.642415 176.039444 \r\nL 152.733324 176.039444 \r\nz\r\n\" style=\"fill:#1f77b4;\"/>\r\n   </g>\r\n   <g id=\"patch_9\">\r\n    <path clip-path=\"url(#pdc42c27bf9)\" d=\"M 169.642415 239.758125 \r\nL 186.551506 239.758125 \r\nL 186.551506 128.250433 \r\nL 169.642415 128.250433 \r\nz\r\n\" style=\"fill:#1f77b4;\"/>\r\n   </g>\r\n   <g id=\"patch_10\">\r\n    <path clip-path=\"url(#pdc42c27bf9)\" d=\"M 186.551506 239.758125 \r\nL 203.460597 239.758125 \r\nL 203.460597 96.391092 \r\nL 186.551506 96.391092 \r\nz\r\n\" style=\"fill:#1f77b4;\"/>\r\n   </g>\r\n   <g id=\"patch_11\">\r\n    <path clip-path=\"url(#pdc42c27bf9)\" d=\"M 203.460597 239.758125 \r\nL 220.369687 239.758125 \r\nL 220.369687 112.320762 \r\nL 203.460597 112.320762 \r\nz\r\n\" style=\"fill:#1f77b4;\"/>\r\n   </g>\r\n   <g id=\"patch_12\">\r\n    <path clip-path=\"url(#pdc42c27bf9)\" d=\"M 220.369687 239.758125 \r\nL 237.278778 239.758125 \r\nL 237.278778 32.672411 \r\nL 220.369687 32.672411 \r\nz\r\n\" style=\"fill:#1f77b4;\"/>\r\n   </g>\r\n   <g id=\"patch_13\">\r\n    <path clip-path=\"url(#pdc42c27bf9)\" d=\"M 237.278778 239.758125 \r\nL 254.187869 239.758125 \r\nL 254.187869 128.250433 \r\nL 237.278778 128.250433 \r\nz\r\n\" style=\"fill:#1f77b4;\"/>\r\n   </g>\r\n   <g id=\"patch_14\">\r\n    <path clip-path=\"url(#pdc42c27bf9)\" d=\"M 254.187869 239.758125 \r\nL 271.09696 239.758125 \r\nL 271.09696 160.109773 \r\nL 254.187869 160.109773 \r\nz\r\n\" style=\"fill:#1f77b4;\"/>\r\n   </g>\r\n   <g id=\"patch_15\">\r\n    <path clip-path=\"url(#pdc42c27bf9)\" d=\"M 271.09696 239.758125 \r\nL 288.006051 239.758125 \r\nL 288.006051 223.828455 \r\nL 271.09696 223.828455 \r\nz\r\n\" style=\"fill:#1f77b4;\"/>\r\n   </g>\r\n   <g id=\"patch_16\">\r\n    <path clip-path=\"url(#pdc42c27bf9)\" d=\"M 288.006051 239.758125 \r\nL 304.915142 239.758125 \r\nL 304.915142 223.828455 \r\nL 288.006051 223.828455 \r\nz\r\n\" style=\"fill:#1f77b4;\"/>\r\n   </g>\r\n   <g id=\"patch_17\">\r\n    <path clip-path=\"url(#pdc42c27bf9)\" d=\"M 304.915142 239.758125 \r\nL 321.824233 239.758125 \r\nL 321.824233 176.039444 \r\nL 304.915142 176.039444 \r\nz\r\n\" style=\"fill:#1f77b4;\"/>\r\n   </g>\r\n   <g id=\"patch_18\">\r\n    <path clip-path=\"url(#pdc42c27bf9)\" d=\"M 321.824233 239.758125 \r\nL 338.733324 239.758125 \r\nL 338.733324 207.898784 \r\nL 321.824233 207.898784 \r\nz\r\n\" style=\"fill:#1f77b4;\"/>\r\n   </g>\r\n   <g id=\"patch_19\">\r\n    <path clip-path=\"url(#pdc42c27bf9)\" d=\"M 338.733324 239.758125 \r\nL 355.642415 239.758125 \r\nL 355.642415 223.828455 \r\nL 338.733324 223.828455 \r\nz\r\n\" style=\"fill:#1f77b4;\"/>\r\n   </g>\r\n   <g id=\"patch_20\">\r\n    <path clip-path=\"url(#pdc42c27bf9)\" d=\"M 355.642415 239.758125 \r\nL 372.551506 239.758125 \r\nL 372.551506 223.828455 \r\nL 355.642415 223.828455 \r\nz\r\n\" style=\"fill:#1f77b4;\"/>\r\n   </g>\r\n   <g id=\"matplotlib.axis_1\">\r\n    <g id=\"xtick_1\">\r\n     <g id=\"line2d_1\">\r\n      <defs>\r\n       <path d=\"M 0 0 \r\nL 0 3.5 \r\n\" id=\"m95bda1c349\" style=\"stroke:#000000;stroke-width:0.8;\"/>\r\n      </defs>\r\n      <g>\r\n       <use style=\"stroke:#000000;stroke-width:0.8;\" x=\"135.824233\" xlink:href=\"#m95bda1c349\" y=\"239.758125\"/>\r\n      </g>\r\n     </g>\r\n     <g id=\"text_1\">\r\n      <!-- 5 -->\r\n      <defs>\r\n       <path d=\"M 10.796875 72.90625 \r\nL 49.515625 72.90625 \r\nL 49.515625 64.59375 \r\nL 19.828125 64.59375 \r\nL 19.828125 46.734375 \r\nQ 21.96875 47.46875 24.109375 47.828125 \r\nQ 26.265625 48.1875 28.421875 48.1875 \r\nQ 40.625 48.1875 47.75 41.5 \r\nQ 54.890625 34.8125 54.890625 23.390625 \r\nQ 54.890625 11.625 47.5625 5.09375 \r\nQ 40.234375 -1.421875 26.90625 -1.421875 \r\nQ 22.3125 -1.421875 17.546875 -0.640625 \r\nQ 12.796875 0.140625 7.71875 1.703125 \r\nL 7.71875 11.625 \r\nQ 12.109375 9.234375 16.796875 8.0625 \r\nQ 21.484375 6.890625 26.703125 6.890625 \r\nQ 35.15625 6.890625 40.078125 11.328125 \r\nQ 45.015625 15.765625 45.015625 23.390625 \r\nQ 45.015625 31 40.078125 35.4375 \r\nQ 35.15625 39.890625 26.703125 39.890625 \r\nQ 22.75 39.890625 18.8125 39.015625 \r\nQ 14.890625 38.140625 10.796875 36.28125 \r\nz\r\n\" id=\"DejaVuSans-53\"/>\r\n      </defs>\r\n      <g transform=\"translate(132.642983 254.356562)scale(0.1 -0.1)\">\r\n       <use xlink:href=\"#DejaVuSans-53\"/>\r\n      </g>\r\n     </g>\r\n    </g>\r\n    <g id=\"xtick_2\">\r\n     <g id=\"line2d_2\">\r\n      <g>\r\n       <use style=\"stroke:#000000;stroke-width:0.8;\" x=\"220.369687\" xlink:href=\"#m95bda1c349\" y=\"239.758125\"/>\r\n      </g>\r\n     </g>\r\n     <g id=\"text_2\">\r\n      <!-- 10 -->\r\n      <defs>\r\n       <path d=\"M 12.40625 8.296875 \r\nL 28.515625 8.296875 \r\nL 28.515625 63.921875 \r\nL 10.984375 60.40625 \r\nL 10.984375 69.390625 \r\nL 28.421875 72.90625 \r\nL 38.28125 72.90625 \r\nL 38.28125 8.296875 \r\nL 54.390625 8.296875 \r\nL 54.390625 0 \r\nL 12.40625 0 \r\nz\r\n\" id=\"DejaVuSans-49\"/>\r\n       <path d=\"M 31.78125 66.40625 \r\nQ 24.171875 66.40625 20.328125 58.90625 \r\nQ 16.5 51.421875 16.5 36.375 \r\nQ 16.5 21.390625 20.328125 13.890625 \r\nQ 24.171875 6.390625 31.78125 6.390625 \r\nQ 39.453125 6.390625 43.28125 13.890625 \r\nQ 47.125 21.390625 47.125 36.375 \r\nQ 47.125 51.421875 43.28125 58.90625 \r\nQ 39.453125 66.40625 31.78125 66.40625 \r\nz\r\nM 31.78125 74.21875 \r\nQ 44.046875 74.21875 50.515625 64.515625 \r\nQ 56.984375 54.828125 56.984375 36.375 \r\nQ 56.984375 17.96875 50.515625 8.265625 \r\nQ 44.046875 -1.421875 31.78125 -1.421875 \r\nQ 19.53125 -1.421875 13.0625 8.265625 \r\nQ 6.59375 17.96875 6.59375 36.375 \r\nQ 6.59375 54.828125 13.0625 64.515625 \r\nQ 19.53125 74.21875 31.78125 74.21875 \r\nz\r\n\" id=\"DejaVuSans-48\"/>\r\n      </defs>\r\n      <g transform=\"translate(214.007187 254.356562)scale(0.1 -0.1)\">\r\n       <use xlink:href=\"#DejaVuSans-49\"/>\r\n       <use x=\"63.623047\" xlink:href=\"#DejaVuSans-48\"/>\r\n      </g>\r\n     </g>\r\n    </g>\r\n    <g id=\"xtick_3\">\r\n     <g id=\"line2d_3\">\r\n      <g>\r\n       <use style=\"stroke:#000000;stroke-width:0.8;\" x=\"304.915142\" xlink:href=\"#m95bda1c349\" y=\"239.758125\"/>\r\n      </g>\r\n     </g>\r\n     <g id=\"text_3\">\r\n      <!-- 15 -->\r\n      <g transform=\"translate(298.552642 254.356562)scale(0.1 -0.1)\">\r\n       <use xlink:href=\"#DejaVuSans-49\"/>\r\n       <use x=\"63.623047\" xlink:href=\"#DejaVuSans-53\"/>\r\n      </g>\r\n     </g>\r\n    </g>\r\n    <g id=\"text_4\">\r\n     <!-- Assists -->\r\n     <defs>\r\n      <path d=\"M 34.1875 63.1875 \r\nL 20.796875 26.90625 \r\nL 47.609375 26.90625 \r\nz\r\nM 28.609375 72.90625 \r\nL 39.796875 72.90625 \r\nL 67.578125 0 \r\nL 57.328125 0 \r\nL 50.6875 18.703125 \r\nL 17.828125 18.703125 \r\nL 11.1875 0 \r\nL 0.78125 0 \r\nz\r\n\" id=\"DejaVuSans-65\"/>\r\n      <path d=\"M 44.28125 53.078125 \r\nL 44.28125 44.578125 \r\nQ 40.484375 46.53125 36.375 47.5 \r\nQ 32.28125 48.484375 27.875 48.484375 \r\nQ 21.1875 48.484375 17.84375 46.4375 \r\nQ 14.5 44.390625 14.5 40.28125 \r\nQ 14.5 37.15625 16.890625 35.375 \r\nQ 19.28125 33.59375 26.515625 31.984375 \r\nL 29.59375 31.296875 \r\nQ 39.15625 29.25 43.1875 25.515625 \r\nQ 47.21875 21.78125 47.21875 15.09375 \r\nQ 47.21875 7.46875 41.1875 3.015625 \r\nQ 35.15625 -1.421875 24.609375 -1.421875 \r\nQ 20.21875 -1.421875 15.453125 -0.5625 \r\nQ 10.6875 0.296875 5.421875 2 \r\nL 5.421875 11.28125 \r\nQ 10.40625 8.6875 15.234375 7.390625 \r\nQ 20.0625 6.109375 24.8125 6.109375 \r\nQ 31.15625 6.109375 34.5625 8.28125 \r\nQ 37.984375 10.453125 37.984375 14.40625 \r\nQ 37.984375 18.0625 35.515625 20.015625 \r\nQ 33.0625 21.96875 24.703125 23.78125 \r\nL 21.578125 24.515625 \r\nQ 13.234375 26.265625 9.515625 29.90625 \r\nQ 5.8125 33.546875 5.8125 39.890625 \r\nQ 5.8125 47.609375 11.28125 51.796875 \r\nQ 16.75 56 26.8125 56 \r\nQ 31.78125 56 36.171875 55.265625 \r\nQ 40.578125 54.546875 44.28125 53.078125 \r\nz\r\n\" id=\"DejaVuSans-115\"/>\r\n      <path d=\"M 9.421875 54.6875 \r\nL 18.40625 54.6875 \r\nL 18.40625 0 \r\nL 9.421875 0 \r\nz\r\nM 9.421875 75.984375 \r\nL 18.40625 75.984375 \r\nL 18.40625 64.59375 \r\nL 9.421875 64.59375 \r\nz\r\n\" id=\"DejaVuSans-105\"/>\r\n      <path d=\"M 18.3125 70.21875 \r\nL 18.3125 54.6875 \r\nL 36.8125 54.6875 \r\nL 36.8125 47.703125 \r\nL 18.3125 47.703125 \r\nL 18.3125 18.015625 \r\nQ 18.3125 11.328125 20.140625 9.421875 \r\nQ 21.96875 7.515625 27.59375 7.515625 \r\nL 36.8125 7.515625 \r\nL 36.8125 0 \r\nL 27.59375 0 \r\nQ 17.1875 0 13.234375 3.875 \r\nQ 9.28125 7.765625 9.28125 18.015625 \r\nL 9.28125 47.703125 \r\nL 2.6875 47.703125 \r\nL 2.6875 54.6875 \r\nL 9.28125 54.6875 \r\nL 9.28125 70.21875 \r\nz\r\n\" id=\"DejaVuSans-116\"/>\r\n     </defs>\r\n     <g transform=\"translate(203.181406 268.034687)scale(0.1 -0.1)\">\r\n      <use xlink:href=\"#DejaVuSans-65\"/>\r\n      <use x=\"68.408203\" xlink:href=\"#DejaVuSans-115\"/>\r\n      <use x=\"120.507812\" xlink:href=\"#DejaVuSans-115\"/>\r\n      <use x=\"172.607422\" xlink:href=\"#DejaVuSans-105\"/>\r\n      <use x=\"200.390625\" xlink:href=\"#DejaVuSans-115\"/>\r\n      <use x=\"252.490234\" xlink:href=\"#DejaVuSans-116\"/>\r\n      <use x=\"291.699219\" xlink:href=\"#DejaVuSans-115\"/>\r\n     </g>\r\n    </g>\r\n   </g>\r\n   <g id=\"matplotlib.axis_2\">\r\n    <g id=\"ytick_1\">\r\n     <g id=\"line2d_4\">\r\n      <defs>\r\n       <path d=\"M 0 0 \r\nL -3.5 0 \r\n\" id=\"m5bdab20229\" style=\"stroke:#000000;stroke-width:0.8;\"/>\r\n      </defs>\r\n      <g>\r\n       <use style=\"stroke:#000000;stroke-width:0.8;\" x=\"52.969687\" xlink:href=\"#m5bdab20229\" y=\"239.758125\"/>\r\n      </g>\r\n     </g>\r\n     <g id=\"text_5\">\r\n      <!-- 0 -->\r\n      <g transform=\"translate(39.607187 243.557344)scale(0.1 -0.1)\">\r\n       <use xlink:href=\"#DejaVuSans-48\"/>\r\n      </g>\r\n     </g>\r\n    </g>\r\n    <g id=\"ytick_2\">\r\n     <g id=\"line2d_5\">\r\n      <g>\r\n       <use style=\"stroke:#000000;stroke-width:0.8;\" x=\"52.969687\" xlink:href=\"#m5bdab20229\" y=\"207.898784\"/>\r\n      </g>\r\n     </g>\r\n     <g id=\"text_6\">\r\n      <!-- 2 -->\r\n      <defs>\r\n       <path d=\"M 19.1875 8.296875 \r\nL 53.609375 8.296875 \r\nL 53.609375 0 \r\nL 7.328125 0 \r\nL 7.328125 8.296875 \r\nQ 12.9375 14.109375 22.625 23.890625 \r\nQ 32.328125 33.6875 34.8125 36.53125 \r\nQ 39.546875 41.84375 41.421875 45.53125 \r\nQ 43.3125 49.21875 43.3125 52.78125 \r\nQ 43.3125 58.59375 39.234375 62.25 \r\nQ 35.15625 65.921875 28.609375 65.921875 \r\nQ 23.96875 65.921875 18.8125 64.3125 \r\nQ 13.671875 62.703125 7.8125 59.421875 \r\nL 7.8125 69.390625 \r\nQ 13.765625 71.78125 18.9375 73 \r\nQ 24.125 74.21875 28.421875 74.21875 \r\nQ 39.75 74.21875 46.484375 68.546875 \r\nQ 53.21875 62.890625 53.21875 53.421875 \r\nQ 53.21875 48.921875 51.53125 44.890625 \r\nQ 49.859375 40.875 45.40625 35.40625 \r\nQ 44.1875 33.984375 37.640625 27.21875 \r\nQ 31.109375 20.453125 19.1875 8.296875 \r\nz\r\n\" id=\"DejaVuSans-50\"/>\r\n      </defs>\r\n      <g transform=\"translate(39.607187 211.698003)scale(0.1 -0.1)\">\r\n       <use xlink:href=\"#DejaVuSans-50\"/>\r\n      </g>\r\n     </g>\r\n    </g>\r\n    <g id=\"ytick_3\">\r\n     <g id=\"line2d_6\">\r\n      <g>\r\n       <use style=\"stroke:#000000;stroke-width:0.8;\" x=\"52.969687\" xlink:href=\"#m5bdab20229\" y=\"176.039444\"/>\r\n      </g>\r\n     </g>\r\n     <g id=\"text_7\">\r\n      <!-- 4 -->\r\n      <defs>\r\n       <path d=\"M 37.796875 64.3125 \r\nL 12.890625 25.390625 \r\nL 37.796875 25.390625 \r\nz\r\nM 35.203125 72.90625 \r\nL 47.609375 72.90625 \r\nL 47.609375 25.390625 \r\nL 58.015625 25.390625 \r\nL 58.015625 17.1875 \r\nL 47.609375 17.1875 \r\nL 47.609375 0 \r\nL 37.796875 0 \r\nL 37.796875 17.1875 \r\nL 4.890625 17.1875 \r\nL 4.890625 26.703125 \r\nz\r\n\" id=\"DejaVuSans-52\"/>\r\n      </defs>\r\n      <g transform=\"translate(39.607187 179.838662)scale(0.1 -0.1)\">\r\n       <use xlink:href=\"#DejaVuSans-52\"/>\r\n      </g>\r\n     </g>\r\n    </g>\r\n    <g id=\"ytick_4\">\r\n     <g id=\"line2d_7\">\r\n      <g>\r\n       <use style=\"stroke:#000000;stroke-width:0.8;\" x=\"52.969687\" xlink:href=\"#m5bdab20229\" y=\"144.180103\"/>\r\n      </g>\r\n     </g>\r\n     <g id=\"text_8\">\r\n      <!-- 6 -->\r\n      <defs>\r\n       <path d=\"M 33.015625 40.375 \r\nQ 26.375 40.375 22.484375 35.828125 \r\nQ 18.609375 31.296875 18.609375 23.390625 \r\nQ 18.609375 15.53125 22.484375 10.953125 \r\nQ 26.375 6.390625 33.015625 6.390625 \r\nQ 39.65625 6.390625 43.53125 10.953125 \r\nQ 47.40625 15.53125 47.40625 23.390625 \r\nQ 47.40625 31.296875 43.53125 35.828125 \r\nQ 39.65625 40.375 33.015625 40.375 \r\nz\r\nM 52.59375 71.296875 \r\nL 52.59375 62.3125 \r\nQ 48.875 64.0625 45.09375 64.984375 \r\nQ 41.3125 65.921875 37.59375 65.921875 \r\nQ 27.828125 65.921875 22.671875 59.328125 \r\nQ 17.53125 52.734375 16.796875 39.40625 \r\nQ 19.671875 43.65625 24.015625 45.921875 \r\nQ 28.375 48.1875 33.59375 48.1875 \r\nQ 44.578125 48.1875 50.953125 41.515625 \r\nQ 57.328125 34.859375 57.328125 23.390625 \r\nQ 57.328125 12.15625 50.6875 5.359375 \r\nQ 44.046875 -1.421875 33.015625 -1.421875 \r\nQ 20.359375 -1.421875 13.671875 8.265625 \r\nQ 6.984375 17.96875 6.984375 36.375 \r\nQ 6.984375 53.65625 15.1875 63.9375 \r\nQ 23.390625 74.21875 37.203125 74.21875 \r\nQ 40.921875 74.21875 44.703125 73.484375 \r\nQ 48.484375 72.75 52.59375 71.296875 \r\nz\r\n\" id=\"DejaVuSans-54\"/>\r\n      </defs>\r\n      <g transform=\"translate(39.607187 147.979322)scale(0.1 -0.1)\">\r\n       <use xlink:href=\"#DejaVuSans-54\"/>\r\n      </g>\r\n     </g>\r\n    </g>\r\n    <g id=\"ytick_5\">\r\n     <g id=\"line2d_8\">\r\n      <g>\r\n       <use style=\"stroke:#000000;stroke-width:0.8;\" x=\"52.969687\" xlink:href=\"#m5bdab20229\" y=\"112.320762\"/>\r\n      </g>\r\n     </g>\r\n     <g id=\"text_9\">\r\n      <!-- 8 -->\r\n      <defs>\r\n       <path d=\"M 31.78125 34.625 \r\nQ 24.75 34.625 20.71875 30.859375 \r\nQ 16.703125 27.09375 16.703125 20.515625 \r\nQ 16.703125 13.921875 20.71875 10.15625 \r\nQ 24.75 6.390625 31.78125 6.390625 \r\nQ 38.8125 6.390625 42.859375 10.171875 \r\nQ 46.921875 13.96875 46.921875 20.515625 \r\nQ 46.921875 27.09375 42.890625 30.859375 \r\nQ 38.875 34.625 31.78125 34.625 \r\nz\r\nM 21.921875 38.8125 \r\nQ 15.578125 40.375 12.03125 44.71875 \r\nQ 8.5 49.078125 8.5 55.328125 \r\nQ 8.5 64.0625 14.71875 69.140625 \r\nQ 20.953125 74.21875 31.78125 74.21875 \r\nQ 42.671875 74.21875 48.875 69.140625 \r\nQ 55.078125 64.0625 55.078125 55.328125 \r\nQ 55.078125 49.078125 51.53125 44.71875 \r\nQ 48 40.375 41.703125 38.8125 \r\nQ 48.828125 37.15625 52.796875 32.3125 \r\nQ 56.78125 27.484375 56.78125 20.515625 \r\nQ 56.78125 9.90625 50.3125 4.234375 \r\nQ 43.84375 -1.421875 31.78125 -1.421875 \r\nQ 19.734375 -1.421875 13.25 4.234375 \r\nQ 6.78125 9.90625 6.78125 20.515625 \r\nQ 6.78125 27.484375 10.78125 32.3125 \r\nQ 14.796875 37.15625 21.921875 38.8125 \r\nz\r\nM 18.3125 54.390625 \r\nQ 18.3125 48.734375 21.84375 45.5625 \r\nQ 25.390625 42.390625 31.78125 42.390625 \r\nQ 38.140625 42.390625 41.71875 45.5625 \r\nQ 45.3125 48.734375 45.3125 54.390625 \r\nQ 45.3125 60.0625 41.71875 63.234375 \r\nQ 38.140625 66.40625 31.78125 66.40625 \r\nQ 25.390625 66.40625 21.84375 63.234375 \r\nQ 18.3125 60.0625 18.3125 54.390625 \r\nz\r\n\" id=\"DejaVuSans-56\"/>\r\n      </defs>\r\n      <g transform=\"translate(39.607187 116.119981)scale(0.1 -0.1)\">\r\n       <use xlink:href=\"#DejaVuSans-56\"/>\r\n      </g>\r\n     </g>\r\n    </g>\r\n    <g id=\"ytick_6\">\r\n     <g id=\"line2d_9\">\r\n      <g>\r\n       <use style=\"stroke:#000000;stroke-width:0.8;\" x=\"52.969687\" xlink:href=\"#m5bdab20229\" y=\"80.461422\"/>\r\n      </g>\r\n     </g>\r\n     <g id=\"text_10\">\r\n      <!-- 10 -->\r\n      <g transform=\"translate(33.244687 84.26064)scale(0.1 -0.1)\">\r\n       <use xlink:href=\"#DejaVuSans-49\"/>\r\n       <use x=\"63.623047\" xlink:href=\"#DejaVuSans-48\"/>\r\n      </g>\r\n     </g>\r\n    </g>\r\n    <g id=\"ytick_7\">\r\n     <g id=\"line2d_10\">\r\n      <g>\r\n       <use style=\"stroke:#000000;stroke-width:0.8;\" x=\"52.969687\" xlink:href=\"#m5bdab20229\" y=\"48.602081\"/>\r\n      </g>\r\n     </g>\r\n     <g id=\"text_11\">\r\n      <!-- 12 -->\r\n      <g transform=\"translate(33.244687 52.4013)scale(0.1 -0.1)\">\r\n       <use xlink:href=\"#DejaVuSans-49\"/>\r\n       <use x=\"63.623047\" xlink:href=\"#DejaVuSans-50\"/>\r\n      </g>\r\n     </g>\r\n    </g>\r\n    <g id=\"text_12\">\r\n     <!-- Frequency -->\r\n     <defs>\r\n      <path d=\"M 9.8125 72.90625 \r\nL 51.703125 72.90625 \r\nL 51.703125 64.59375 \r\nL 19.671875 64.59375 \r\nL 19.671875 43.109375 \r\nL 48.578125 43.109375 \r\nL 48.578125 34.8125 \r\nL 19.671875 34.8125 \r\nL 19.671875 0 \r\nL 9.8125 0 \r\nz\r\n\" id=\"DejaVuSans-70\"/>\r\n      <path d=\"M 41.109375 46.296875 \r\nQ 39.59375 47.171875 37.8125 47.578125 \r\nQ 36.03125 48 33.890625 48 \r\nQ 26.265625 48 22.1875 43.046875 \r\nQ 18.109375 38.09375 18.109375 28.8125 \r\nL 18.109375 0 \r\nL 9.078125 0 \r\nL 9.078125 54.6875 \r\nL 18.109375 54.6875 \r\nL 18.109375 46.1875 \r\nQ 20.953125 51.171875 25.484375 53.578125 \r\nQ 30.03125 56 36.53125 56 \r\nQ 37.453125 56 38.578125 55.875 \r\nQ 39.703125 55.765625 41.0625 55.515625 \r\nz\r\n\" id=\"DejaVuSans-114\"/>\r\n      <path d=\"M 56.203125 29.59375 \r\nL 56.203125 25.203125 \r\nL 14.890625 25.203125 \r\nQ 15.484375 15.921875 20.484375 11.0625 \r\nQ 25.484375 6.203125 34.421875 6.203125 \r\nQ 39.59375 6.203125 44.453125 7.46875 \r\nQ 49.3125 8.734375 54.109375 11.28125 \r\nL 54.109375 2.78125 \r\nQ 49.265625 0.734375 44.1875 -0.34375 \r\nQ 39.109375 -1.421875 33.890625 -1.421875 \r\nQ 20.796875 -1.421875 13.15625 6.1875 \r\nQ 5.515625 13.8125 5.515625 26.8125 \r\nQ 5.515625 40.234375 12.765625 48.109375 \r\nQ 20.015625 56 32.328125 56 \r\nQ 43.359375 56 49.78125 48.890625 \r\nQ 56.203125 41.796875 56.203125 29.59375 \r\nz\r\nM 47.21875 32.234375 \r\nQ 47.125 39.59375 43.09375 43.984375 \r\nQ 39.0625 48.390625 32.421875 48.390625 \r\nQ 24.90625 48.390625 20.390625 44.140625 \r\nQ 15.875 39.890625 15.1875 32.171875 \r\nz\r\n\" id=\"DejaVuSans-101\"/>\r\n      <path d=\"M 14.796875 27.296875 \r\nQ 14.796875 17.390625 18.875 11.75 \r\nQ 22.953125 6.109375 30.078125 6.109375 \r\nQ 37.203125 6.109375 41.296875 11.75 \r\nQ 45.40625 17.390625 45.40625 27.296875 \r\nQ 45.40625 37.203125 41.296875 42.84375 \r\nQ 37.203125 48.484375 30.078125 48.484375 \r\nQ 22.953125 48.484375 18.875 42.84375 \r\nQ 14.796875 37.203125 14.796875 27.296875 \r\nz\r\nM 45.40625 8.203125 \r\nQ 42.578125 3.328125 38.25 0.953125 \r\nQ 33.9375 -1.421875 27.875 -1.421875 \r\nQ 17.96875 -1.421875 11.734375 6.484375 \r\nQ 5.515625 14.40625 5.515625 27.296875 \r\nQ 5.515625 40.1875 11.734375 48.09375 \r\nQ 17.96875 56 27.875 56 \r\nQ 33.9375 56 38.25 53.625 \r\nQ 42.578125 51.265625 45.40625 46.390625 \r\nL 45.40625 54.6875 \r\nL 54.390625 54.6875 \r\nL 54.390625 -20.796875 \r\nL 45.40625 -20.796875 \r\nz\r\n\" id=\"DejaVuSans-113\"/>\r\n      <path d=\"M 8.5 21.578125 \r\nL 8.5 54.6875 \r\nL 17.484375 54.6875 \r\nL 17.484375 21.921875 \r\nQ 17.484375 14.15625 20.5 10.265625 \r\nQ 23.53125 6.390625 29.59375 6.390625 \r\nQ 36.859375 6.390625 41.078125 11.03125 \r\nQ 45.3125 15.671875 45.3125 23.6875 \r\nL 45.3125 54.6875 \r\nL 54.296875 54.6875 \r\nL 54.296875 0 \r\nL 45.3125 0 \r\nL 45.3125 8.40625 \r\nQ 42.046875 3.421875 37.71875 1 \r\nQ 33.40625 -1.421875 27.6875 -1.421875 \r\nQ 18.265625 -1.421875 13.375 4.4375 \r\nQ 8.5 10.296875 8.5 21.578125 \r\nz\r\nM 31.109375 56 \r\nz\r\n\" id=\"DejaVuSans-117\"/>\r\n      <path d=\"M 54.890625 33.015625 \r\nL 54.890625 0 \r\nL 45.90625 0 \r\nL 45.90625 32.71875 \r\nQ 45.90625 40.484375 42.875 44.328125 \r\nQ 39.84375 48.1875 33.796875 48.1875 \r\nQ 26.515625 48.1875 22.3125 43.546875 \r\nQ 18.109375 38.921875 18.109375 30.90625 \r\nL 18.109375 0 \r\nL 9.078125 0 \r\nL 9.078125 54.6875 \r\nL 18.109375 54.6875 \r\nL 18.109375 46.1875 \r\nQ 21.34375 51.125 25.703125 53.5625 \r\nQ 30.078125 56 35.796875 56 \r\nQ 45.21875 56 50.046875 50.171875 \r\nQ 54.890625 44.34375 54.890625 33.015625 \r\nz\r\n\" id=\"DejaVuSans-110\"/>\r\n      <path d=\"M 48.78125 52.59375 \r\nL 48.78125 44.1875 \r\nQ 44.96875 46.296875 41.140625 47.34375 \r\nQ 37.3125 48.390625 33.40625 48.390625 \r\nQ 24.65625 48.390625 19.8125 42.84375 \r\nQ 14.984375 37.3125 14.984375 27.296875 \r\nQ 14.984375 17.28125 19.8125 11.734375 \r\nQ 24.65625 6.203125 33.40625 6.203125 \r\nQ 37.3125 6.203125 41.140625 7.25 \r\nQ 44.96875 8.296875 48.78125 10.40625 \r\nL 48.78125 2.09375 \r\nQ 45.015625 0.34375 40.984375 -0.53125 \r\nQ 36.96875 -1.421875 32.421875 -1.421875 \r\nQ 20.0625 -1.421875 12.78125 6.34375 \r\nQ 5.515625 14.109375 5.515625 27.296875 \r\nQ 5.515625 40.671875 12.859375 48.328125 \r\nQ 20.21875 56 33.015625 56 \r\nQ 37.15625 56 41.109375 55.140625 \r\nQ 45.0625 54.296875 48.78125 52.59375 \r\nz\r\n\" id=\"DejaVuSans-99\"/>\r\n      <path d=\"M 32.171875 -5.078125 \r\nQ 28.375 -14.84375 24.75 -17.8125 \r\nQ 21.140625 -20.796875 15.09375 -20.796875 \r\nL 7.90625 -20.796875 \r\nL 7.90625 -13.28125 \r\nL 13.1875 -13.28125 \r\nQ 16.890625 -13.28125 18.9375 -11.515625 \r\nQ 21 -9.765625 23.484375 -3.21875 \r\nL 25.09375 0.875 \r\nL 2.984375 54.6875 \r\nL 12.5 54.6875 \r\nL 29.59375 11.921875 \r\nL 46.6875 54.6875 \r\nL 56.203125 54.6875 \r\nz\r\n\" id=\"DejaVuSans-121\"/>\r\n     </defs>\r\n     <g transform=\"translate(27.165 157.335781)rotate(-90)scale(0.1 -0.1)\">\r\n      <use xlink:href=\"#DejaVuSans-70\"/>\r\n      <use x=\"57.410156\" xlink:href=\"#DejaVuSans-114\"/>\r\n      <use x=\"98.492188\" xlink:href=\"#DejaVuSans-101\"/>\r\n      <use x=\"160.015625\" xlink:href=\"#DejaVuSans-113\"/>\r\n      <use x=\"223.492188\" xlink:href=\"#DejaVuSans-117\"/>\r\n      <use x=\"286.871094\" xlink:href=\"#DejaVuSans-101\"/>\r\n      <use x=\"348.394531\" xlink:href=\"#DejaVuSans-110\"/>\r\n      <use x=\"411.773438\" xlink:href=\"#DejaVuSans-99\"/>\r\n      <use x=\"466.753906\" xlink:href=\"#DejaVuSans-121\"/>\r\n     </g>\r\n    </g>\r\n   </g>\r\n   <g id=\"patch_21\">\r\n    <path d=\"M 52.969687 239.758125 \r\nL 52.969687 22.318125 \r\n\" style=\"fill:none;stroke:#000000;stroke-linecap:square;stroke-linejoin:miter;stroke-width:0.8;\"/>\r\n   </g>\r\n   <g id=\"patch_22\">\r\n    <path d=\"M 387.769687 239.758125 \r\nL 387.769687 22.318125 \r\n\" style=\"fill:none;stroke:#000000;stroke-linecap:square;stroke-linejoin:miter;stroke-width:0.8;\"/>\r\n   </g>\r\n   <g id=\"patch_23\">\r\n    <path d=\"M 52.969687 239.758125 \r\nL 387.769687 239.758125 \r\n\" style=\"fill:none;stroke:#000000;stroke-linecap:square;stroke-linejoin:miter;stroke-width:0.8;\"/>\r\n   </g>\r\n   <g id=\"patch_24\">\r\n    <path d=\"M 52.969687 22.318125 \r\nL 387.769687 22.318125 \r\n\" style=\"fill:none;stroke:#000000;stroke-linecap:square;stroke-linejoin:miter;stroke-width:0.8;\"/>\r\n   </g>\r\n   <g id=\"text_13\">\r\n    <!-- Luka Doncic: Assists when 10 points or more and 10 rebounds or more -->\r\n    <defs>\r\n     <path d=\"M 9.8125 72.90625 \r\nL 19.671875 72.90625 \r\nL 19.671875 8.296875 \r\nL 55.171875 8.296875 \r\nL 55.171875 0 \r\nL 9.8125 0 \r\nz\r\n\" id=\"DejaVuSans-76\"/>\r\n     <path d=\"M 9.078125 75.984375 \r\nL 18.109375 75.984375 \r\nL 18.109375 31.109375 \r\nL 44.921875 54.6875 \r\nL 56.390625 54.6875 \r\nL 27.390625 29.109375 \r\nL 57.625 0 \r\nL 45.90625 0 \r\nL 18.109375 26.703125 \r\nL 18.109375 0 \r\nL 9.078125 0 \r\nz\r\n\" id=\"DejaVuSans-107\"/>\r\n     <path d=\"M 34.28125 27.484375 \r\nQ 23.390625 27.484375 19.1875 25 \r\nQ 14.984375 22.515625 14.984375 16.5 \r\nQ 14.984375 11.71875 18.140625 8.90625 \r\nQ 21.296875 6.109375 26.703125 6.109375 \r\nQ 34.1875 6.109375 38.703125 11.40625 \r\nQ 43.21875 16.703125 43.21875 25.484375 \r\nL 43.21875 27.484375 \r\nz\r\nM 52.203125 31.203125 \r\nL 52.203125 0 \r\nL 43.21875 0 \r\nL 43.21875 8.296875 \r\nQ 40.140625 3.328125 35.546875 0.953125 \r\nQ 30.953125 -1.421875 24.3125 -1.421875 \r\nQ 15.921875 -1.421875 10.953125 3.296875 \r\nQ 6 8.015625 6 15.921875 \r\nQ 6 25.140625 12.171875 29.828125 \r\nQ 18.359375 34.515625 30.609375 34.515625 \r\nL 43.21875 34.515625 \r\nL 43.21875 35.40625 \r\nQ 43.21875 41.609375 39.140625 45 \r\nQ 35.0625 48.390625 27.6875 48.390625 \r\nQ 23 48.390625 18.546875 47.265625 \r\nQ 14.109375 46.140625 10.015625 43.890625 \r\nL 10.015625 52.203125 \r\nQ 14.9375 54.109375 19.578125 55.046875 \r\nQ 24.21875 56 28.609375 56 \r\nQ 40.484375 56 46.34375 49.84375 \r\nQ 52.203125 43.703125 52.203125 31.203125 \r\nz\r\n\" id=\"DejaVuSans-97\"/>\r\n     <path id=\"DejaVuSans-32\"/>\r\n     <path d=\"M 19.671875 64.796875 \r\nL 19.671875 8.109375 \r\nL 31.59375 8.109375 \r\nQ 46.6875 8.109375 53.6875 14.9375 \r\nQ 60.6875 21.78125 60.6875 36.53125 \r\nQ 60.6875 51.171875 53.6875 57.984375 \r\nQ 46.6875 64.796875 31.59375 64.796875 \r\nz\r\nM 9.8125 72.90625 \r\nL 30.078125 72.90625 \r\nQ 51.265625 72.90625 61.171875 64.09375 \r\nQ 71.09375 55.28125 71.09375 36.53125 \r\nQ 71.09375 17.671875 61.125 8.828125 \r\nQ 51.171875 0 30.078125 0 \r\nL 9.8125 0 \r\nz\r\n\" id=\"DejaVuSans-68\"/>\r\n     <path d=\"M 30.609375 48.390625 \r\nQ 23.390625 48.390625 19.1875 42.75 \r\nQ 14.984375 37.109375 14.984375 27.296875 \r\nQ 14.984375 17.484375 19.15625 11.84375 \r\nQ 23.34375 6.203125 30.609375 6.203125 \r\nQ 37.796875 6.203125 41.984375 11.859375 \r\nQ 46.1875 17.53125 46.1875 27.296875 \r\nQ 46.1875 37.015625 41.984375 42.703125 \r\nQ 37.796875 48.390625 30.609375 48.390625 \r\nz\r\nM 30.609375 56 \r\nQ 42.328125 56 49.015625 48.375 \r\nQ 55.71875 40.765625 55.71875 27.296875 \r\nQ 55.71875 13.875 49.015625 6.21875 \r\nQ 42.328125 -1.421875 30.609375 -1.421875 \r\nQ 18.84375 -1.421875 12.171875 6.21875 \r\nQ 5.515625 13.875 5.515625 27.296875 \r\nQ 5.515625 40.765625 12.171875 48.375 \r\nQ 18.84375 56 30.609375 56 \r\nz\r\n\" id=\"DejaVuSans-111\"/>\r\n     <path d=\"M 11.71875 12.40625 \r\nL 22.015625 12.40625 \r\nL 22.015625 0 \r\nL 11.71875 0 \r\nz\r\nM 11.71875 51.703125 \r\nL 22.015625 51.703125 \r\nL 22.015625 39.3125 \r\nL 11.71875 39.3125 \r\nz\r\n\" id=\"DejaVuSans-58\"/>\r\n     <path d=\"M 4.203125 54.6875 \r\nL 13.1875 54.6875 \r\nL 24.421875 12.015625 \r\nL 35.59375 54.6875 \r\nL 46.1875 54.6875 \r\nL 57.421875 12.015625 \r\nL 68.609375 54.6875 \r\nL 77.59375 54.6875 \r\nL 63.28125 0 \r\nL 52.6875 0 \r\nL 40.921875 44.828125 \r\nL 29.109375 0 \r\nL 18.5 0 \r\nz\r\n\" id=\"DejaVuSans-119\"/>\r\n     <path d=\"M 54.890625 33.015625 \r\nL 54.890625 0 \r\nL 45.90625 0 \r\nL 45.90625 32.71875 \r\nQ 45.90625 40.484375 42.875 44.328125 \r\nQ 39.84375 48.1875 33.796875 48.1875 \r\nQ 26.515625 48.1875 22.3125 43.546875 \r\nQ 18.109375 38.921875 18.109375 30.90625 \r\nL 18.109375 0 \r\nL 9.078125 0 \r\nL 9.078125 75.984375 \r\nL 18.109375 75.984375 \r\nL 18.109375 46.1875 \r\nQ 21.34375 51.125 25.703125 53.5625 \r\nQ 30.078125 56 35.796875 56 \r\nQ 45.21875 56 50.046875 50.171875 \r\nQ 54.890625 44.34375 54.890625 33.015625 \r\nz\r\n\" id=\"DejaVuSans-104\"/>\r\n     <path d=\"M 18.109375 8.203125 \r\nL 18.109375 -20.796875 \r\nL 9.078125 -20.796875 \r\nL 9.078125 54.6875 \r\nL 18.109375 54.6875 \r\nL 18.109375 46.390625 \r\nQ 20.953125 51.265625 25.265625 53.625 \r\nQ 29.59375 56 35.59375 56 \r\nQ 45.5625 56 51.78125 48.09375 \r\nQ 58.015625 40.1875 58.015625 27.296875 \r\nQ 58.015625 14.40625 51.78125 6.484375 \r\nQ 45.5625 -1.421875 35.59375 -1.421875 \r\nQ 29.59375 -1.421875 25.265625 0.953125 \r\nQ 20.953125 3.328125 18.109375 8.203125 \r\nz\r\nM 48.6875 27.296875 \r\nQ 48.6875 37.203125 44.609375 42.84375 \r\nQ 40.53125 48.484375 33.40625 48.484375 \r\nQ 26.265625 48.484375 22.1875 42.84375 \r\nQ 18.109375 37.203125 18.109375 27.296875 \r\nQ 18.109375 17.390625 22.1875 11.75 \r\nQ 26.265625 6.109375 33.40625 6.109375 \r\nQ 40.53125 6.109375 44.609375 11.75 \r\nQ 48.6875 17.390625 48.6875 27.296875 \r\nz\r\n\" id=\"DejaVuSans-112\"/>\r\n     <path d=\"M 52 44.1875 \r\nQ 55.375 50.25 60.0625 53.125 \r\nQ 64.75 56 71.09375 56 \r\nQ 79.640625 56 84.28125 50.015625 \r\nQ 88.921875 44.046875 88.921875 33.015625 \r\nL 88.921875 0 \r\nL 79.890625 0 \r\nL 79.890625 32.71875 \r\nQ 79.890625 40.578125 77.09375 44.375 \r\nQ 74.3125 48.1875 68.609375 48.1875 \r\nQ 61.625 48.1875 57.5625 43.546875 \r\nQ 53.515625 38.921875 53.515625 30.90625 \r\nL 53.515625 0 \r\nL 44.484375 0 \r\nL 44.484375 32.71875 \r\nQ 44.484375 40.625 41.703125 44.40625 \r\nQ 38.921875 48.1875 33.109375 48.1875 \r\nQ 26.21875 48.1875 22.15625 43.53125 \r\nQ 18.109375 38.875 18.109375 30.90625 \r\nL 18.109375 0 \r\nL 9.078125 0 \r\nL 9.078125 54.6875 \r\nL 18.109375 54.6875 \r\nL 18.109375 46.1875 \r\nQ 21.1875 51.21875 25.484375 53.609375 \r\nQ 29.78125 56 35.6875 56 \r\nQ 41.65625 56 45.828125 52.96875 \r\nQ 50 49.953125 52 44.1875 \r\nz\r\n\" id=\"DejaVuSans-109\"/>\r\n     <path d=\"M 45.40625 46.390625 \r\nL 45.40625 75.984375 \r\nL 54.390625 75.984375 \r\nL 54.390625 0 \r\nL 45.40625 0 \r\nL 45.40625 8.203125 \r\nQ 42.578125 3.328125 38.25 0.953125 \r\nQ 33.9375 -1.421875 27.875 -1.421875 \r\nQ 17.96875 -1.421875 11.734375 6.484375 \r\nQ 5.515625 14.40625 5.515625 27.296875 \r\nQ 5.515625 40.1875 11.734375 48.09375 \r\nQ 17.96875 56 27.875 56 \r\nQ 33.9375 56 38.25 53.625 \r\nQ 42.578125 51.265625 45.40625 46.390625 \r\nz\r\nM 14.796875 27.296875 \r\nQ 14.796875 17.390625 18.875 11.75 \r\nQ 22.953125 6.109375 30.078125 6.109375 \r\nQ 37.203125 6.109375 41.296875 11.75 \r\nQ 45.40625 17.390625 45.40625 27.296875 \r\nQ 45.40625 37.203125 41.296875 42.84375 \r\nQ 37.203125 48.484375 30.078125 48.484375 \r\nQ 22.953125 48.484375 18.875 42.84375 \r\nQ 14.796875 37.203125 14.796875 27.296875 \r\nz\r\n\" id=\"DejaVuSans-100\"/>\r\n     <path d=\"M 48.6875 27.296875 \r\nQ 48.6875 37.203125 44.609375 42.84375 \r\nQ 40.53125 48.484375 33.40625 48.484375 \r\nQ 26.265625 48.484375 22.1875 42.84375 \r\nQ 18.109375 37.203125 18.109375 27.296875 \r\nQ 18.109375 17.390625 22.1875 11.75 \r\nQ 26.265625 6.109375 33.40625 6.109375 \r\nQ 40.53125 6.109375 44.609375 11.75 \r\nQ 48.6875 17.390625 48.6875 27.296875 \r\nz\r\nM 18.109375 46.390625 \r\nQ 20.953125 51.265625 25.265625 53.625 \r\nQ 29.59375 56 35.59375 56 \r\nQ 45.5625 56 51.78125 48.09375 \r\nQ 58.015625 40.1875 58.015625 27.296875 \r\nQ 58.015625 14.40625 51.78125 6.484375 \r\nQ 45.5625 -1.421875 35.59375 -1.421875 \r\nQ 29.59375 -1.421875 25.265625 0.953125 \r\nQ 20.953125 3.328125 18.109375 8.203125 \r\nL 18.109375 0 \r\nL 9.078125 0 \r\nL 9.078125 75.984375 \r\nL 18.109375 75.984375 \r\nz\r\n\" id=\"DejaVuSans-98\"/>\r\n    </defs>\r\n    <g transform=\"translate(7.2 16.318125)scale(0.12 -0.12)\">\r\n     <use xlink:href=\"#DejaVuSans-76\"/>\r\n     <use x=\"55.697266\" xlink:href=\"#DejaVuSans-117\"/>\r\n     <use x=\"119.076172\" xlink:href=\"#DejaVuSans-107\"/>\r\n     <use x=\"176.970703\" xlink:href=\"#DejaVuSans-97\"/>\r\n     <use x=\"238.25\" xlink:href=\"#DejaVuSans-32\"/>\r\n     <use x=\"270.037109\" xlink:href=\"#DejaVuSans-68\"/>\r\n     <use x=\"347.039062\" xlink:href=\"#DejaVuSans-111\"/>\r\n     <use x=\"408.220703\" xlink:href=\"#DejaVuSans-110\"/>\r\n     <use x=\"471.599609\" xlink:href=\"#DejaVuSans-99\"/>\r\n     <use x=\"526.580078\" xlink:href=\"#DejaVuSans-105\"/>\r\n     <use x=\"554.363281\" xlink:href=\"#DejaVuSans-99\"/>\r\n     <use x=\"609.34375\" xlink:href=\"#DejaVuSans-58\"/>\r\n     <use x=\"643.035156\" xlink:href=\"#DejaVuSans-32\"/>\r\n     <use x=\"674.822266\" xlink:href=\"#DejaVuSans-65\"/>\r\n     <use x=\"743.230469\" xlink:href=\"#DejaVuSans-115\"/>\r\n     <use x=\"795.330078\" xlink:href=\"#DejaVuSans-115\"/>\r\n     <use x=\"847.429688\" xlink:href=\"#DejaVuSans-105\"/>\r\n     <use x=\"875.212891\" xlink:href=\"#DejaVuSans-115\"/>\r\n     <use x=\"927.3125\" xlink:href=\"#DejaVuSans-116\"/>\r\n     <use x=\"966.521484\" xlink:href=\"#DejaVuSans-115\"/>\r\n     <use x=\"1018.621094\" xlink:href=\"#DejaVuSans-32\"/>\r\n     <use x=\"1050.408203\" xlink:href=\"#DejaVuSans-119\"/>\r\n     <use x=\"1132.195312\" xlink:href=\"#DejaVuSans-104\"/>\r\n     <use x=\"1195.574219\" xlink:href=\"#DejaVuSans-101\"/>\r\n     <use x=\"1257.097656\" xlink:href=\"#DejaVuSans-110\"/>\r\n     <use x=\"1320.476562\" xlink:href=\"#DejaVuSans-32\"/>\r\n     <use x=\"1352.263672\" xlink:href=\"#DejaVuSans-49\"/>\r\n     <use x=\"1415.886719\" xlink:href=\"#DejaVuSans-48\"/>\r\n     <use x=\"1479.509766\" xlink:href=\"#DejaVuSans-32\"/>\r\n     <use x=\"1511.296875\" xlink:href=\"#DejaVuSans-112\"/>\r\n     <use x=\"1574.773438\" xlink:href=\"#DejaVuSans-111\"/>\r\n     <use x=\"1635.955078\" xlink:href=\"#DejaVuSans-105\"/>\r\n     <use x=\"1663.738281\" xlink:href=\"#DejaVuSans-110\"/>\r\n     <use x=\"1727.117188\" xlink:href=\"#DejaVuSans-116\"/>\r\n     <use x=\"1766.326172\" xlink:href=\"#DejaVuSans-115\"/>\r\n     <use x=\"1818.425781\" xlink:href=\"#DejaVuSans-32\"/>\r\n     <use x=\"1850.212891\" xlink:href=\"#DejaVuSans-111\"/>\r\n     <use x=\"1911.394531\" xlink:href=\"#DejaVuSans-114\"/>\r\n     <use x=\"1952.507812\" xlink:href=\"#DejaVuSans-32\"/>\r\n     <use x=\"1984.294922\" xlink:href=\"#DejaVuSans-109\"/>\r\n     <use x=\"2081.707031\" xlink:href=\"#DejaVuSans-111\"/>\r\n     <use x=\"2142.888672\" xlink:href=\"#DejaVuSans-114\"/>\r\n     <use x=\"2183.970703\" xlink:href=\"#DejaVuSans-101\"/>\r\n     <use x=\"2245.494141\" xlink:href=\"#DejaVuSans-32\"/>\r\n     <use x=\"2277.28125\" xlink:href=\"#DejaVuSans-97\"/>\r\n     <use x=\"2338.560547\" xlink:href=\"#DejaVuSans-110\"/>\r\n     <use x=\"2401.939453\" xlink:href=\"#DejaVuSans-100\"/>\r\n     <use x=\"2465.416016\" xlink:href=\"#DejaVuSans-32\"/>\r\n     <use x=\"2497.203125\" xlink:href=\"#DejaVuSans-49\"/>\r\n     <use x=\"2560.826172\" xlink:href=\"#DejaVuSans-48\"/>\r\n     <use x=\"2624.449219\" xlink:href=\"#DejaVuSans-32\"/>\r\n     <use x=\"2656.236328\" xlink:href=\"#DejaVuSans-114\"/>\r\n     <use x=\"2697.318359\" xlink:href=\"#DejaVuSans-101\"/>\r\n     <use x=\"2758.841797\" xlink:href=\"#DejaVuSans-98\"/>\r\n     <use x=\"2822.318359\" xlink:href=\"#DejaVuSans-111\"/>\r\n     <use x=\"2883.5\" xlink:href=\"#DejaVuSans-117\"/>\r\n     <use x=\"2946.878906\" xlink:href=\"#DejaVuSans-110\"/>\r\n     <use x=\"3010.257812\" xlink:href=\"#DejaVuSans-100\"/>\r\n     <use x=\"3073.734375\" xlink:href=\"#DejaVuSans-115\"/>\r\n     <use x=\"3125.833984\" xlink:href=\"#DejaVuSans-32\"/>\r\n     <use x=\"3157.621094\" xlink:href=\"#DejaVuSans-111\"/>\r\n     <use x=\"3218.802734\" xlink:href=\"#DejaVuSans-114\"/>\r\n     <use x=\"3259.916016\" xlink:href=\"#DejaVuSans-32\"/>\r\n     <use x=\"3291.703125\" xlink:href=\"#DejaVuSans-109\"/>\r\n     <use x=\"3389.115234\" xlink:href=\"#DejaVuSans-111\"/>\r\n     <use x=\"3450.296875\" xlink:href=\"#DejaVuSans-114\"/>\r\n     <use x=\"3491.378906\" xlink:href=\"#DejaVuSans-101\"/>\r\n    </g>\r\n   </g>\r\n   <g id=\"legend_1\">\r\n    <g id=\"patch_25\">\r\n     <path d=\"M 329.472812 44.99625 \r\nL 380.769687 44.99625 \r\nQ 382.769687 44.99625 382.769687 42.99625 \r\nL 382.769687 29.318125 \r\nQ 382.769687 27.318125 380.769687 27.318125 \r\nL 329.472812 27.318125 \r\nQ 327.472812 27.318125 327.472812 29.318125 \r\nL 327.472812 42.99625 \r\nQ 327.472812 44.99625 329.472812 44.99625 \r\nz\r\n\" style=\"fill:#ffffff;opacity:0.8;stroke:#cccccc;stroke-linejoin:miter;\"/>\r\n    </g>\r\n    <g id=\"patch_26\">\r\n     <path d=\"M 331.472812 38.916562 \r\nL 351.472812 38.916562 \r\nL 351.472812 31.916562 \r\nL 331.472812 31.916562 \r\nz\r\n\" style=\"fill:#1f77b4;\"/>\r\n    </g>\r\n    <g id=\"text_14\">\r\n     <!-- AST -->\r\n     <defs>\r\n      <path d=\"M 53.515625 70.515625 \r\nL 53.515625 60.890625 \r\nQ 47.90625 63.578125 42.921875 64.890625 \r\nQ 37.9375 66.21875 33.296875 66.21875 \r\nQ 25.25 66.21875 20.875 63.09375 \r\nQ 16.5 59.96875 16.5 54.203125 \r\nQ 16.5 49.359375 19.40625 46.890625 \r\nQ 22.3125 44.4375 30.421875 42.921875 \r\nL 36.375 41.703125 \r\nQ 47.40625 39.59375 52.65625 34.296875 \r\nQ 57.90625 29 57.90625 20.125 \r\nQ 57.90625 9.515625 50.796875 4.046875 \r\nQ 43.703125 -1.421875 29.984375 -1.421875 \r\nQ 24.8125 -1.421875 18.96875 -0.25 \r\nQ 13.140625 0.921875 6.890625 3.21875 \r\nL 6.890625 13.375 \r\nQ 12.890625 10.015625 18.65625 8.296875 \r\nQ 24.421875 6.59375 29.984375 6.59375 \r\nQ 38.421875 6.59375 43.015625 9.90625 \r\nQ 47.609375 13.234375 47.609375 19.390625 \r\nQ 47.609375 24.75 44.3125 27.78125 \r\nQ 41.015625 30.8125 33.5 32.328125 \r\nL 27.484375 33.5 \r\nQ 16.453125 35.6875 11.515625 40.375 \r\nQ 6.59375 45.0625 6.59375 53.421875 \r\nQ 6.59375 63.09375 13.40625 68.65625 \r\nQ 20.21875 74.21875 32.171875 74.21875 \r\nQ 37.3125 74.21875 42.625 73.28125 \r\nQ 47.953125 72.359375 53.515625 70.515625 \r\nz\r\n\" id=\"DejaVuSans-83\"/>\r\n      <path d=\"M -0.296875 72.90625 \r\nL 61.375 72.90625 \r\nL 61.375 64.59375 \r\nL 35.5 64.59375 \r\nL 35.5 0 \r\nL 25.59375 0 \r\nL 25.59375 64.59375 \r\nL -0.296875 64.59375 \r\nz\r\n\" id=\"DejaVuSans-84\"/>\r\n     </defs>\r\n     <g transform=\"translate(359.472812 38.916562)scale(0.1 -0.1)\">\r\n      <use xlink:href=\"#DejaVuSans-65\"/>\r\n      <use x=\"68.408203\" xlink:href=\"#DejaVuSans-83\"/>\r\n      <use x=\"131.884766\" xlink:href=\"#DejaVuSans-84\"/>\r\n     </g>\r\n    </g>\r\n   </g>\r\n  </g>\r\n </g>\r\n <defs>\r\n  <clipPath id=\"pdc42c27bf9\">\r\n   <rect height=\"217.44\" width=\"334.8\" x=\"52.969687\" y=\"22.318125\"/>\r\n  </clipPath>\r\n </defs>\r\n</svg>\r\n",
      "image/png": "[encoded data removed]"
     },
     "metadata": {
      "needs_background": "light"
     }
    }
   ],
   "source": [
    "PlotLukaStats.Assists10PointsAndRebounds()"
   ]
  },
  {
   "cell_type": "code",
   "execution_count": 48,
   "metadata": {},
   "outputs": [],
   "source": [
    "### Get data on all active players and see if there's clustering around certain points totals.\n"
   ]
  },
  {
   "cell_type": "code",
   "execution_count": null,
   "metadata": {},
   "outputs": [],
   "source": [
    "# Create probability distribution function for each player/stat combination to get likelihood that each value occurs.\n",
    "# Use conditional probability. e.g., what are the chances, if you have 10 or more points, that you also have 10 or more assists.\n"
   ]
  }
 ],
 "metadata": {
  "kernelspec": {
   "name": "python3",
   "display_name": "Python 3.7.4 64-bit ('base': conda)"
  },
  "language_info": {
   "codemirror_mode": {
    "name": "ipython",
    "version": 3
   },
   "file_extension": ".py",
   "mimetype": "text/x-python",
   "name": "python",
   "nbconvert_exporter": "python",
   "pygments_lexer": "ipython3",
   "version": "3.7.4"
  },
  "interpreter": {
   "hash": "b9561e23b0d7ce8d72d4d8e76a934fab03d88be34459cb8148d49b4c68d85a53"
  }
 },
 "nbformat": 4,
 "nbformat_minor": 2
}