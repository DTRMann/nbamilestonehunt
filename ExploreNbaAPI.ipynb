{
 "cells": [
  {
   "cell_type": "code",
   "execution_count": 1,
   "metadata": {},
   "outputs": [],
   "source": [
    "import numpy as np\n",
    "import pandas as pd"
   ]
  },
  {
   "cell_type": "code",
   "execution_count": 3,
   "metadata": {},
   "outputs": [],
   "source": [
    "# Import high-level information\n",
    "from nba_api.stats.static import teams\n",
    "from nba_api.stats.static import players\n",
    "from nba_api.stats.endpoints import playergamelog"
   ]
  },
  {
   "cell_type": "code",
   "execution_count": 4,
   "metadata": {},
   "outputs": [],
   "source": [
    "# R to python reference\n",
    "# https://gist.github.com/conormm/fd8b1980c28dd21cfaf6975c86c74d07"
   ]
  },
  {
   "cell_type": "code",
   "execution_count": 5,
   "metadata": {},
   "outputs": [],
   "source": [
    "# Get info on teams\n",
    "nbaTeams = teams.get_teams()\n",
    "celtics = [team for team in nbaTeams if team['full_name'] == 'Boston Celtics']"
   ]
  },
  {
   "cell_type": "code",
   "execution_count": 6,
   "metadata": {},
   "outputs": [],
   "source": [
    "# Get info on players\n",
    "nbaPlayers = players.get_players()"
   ]
  },
  {
   "cell_type": "code",
   "execution_count": 7,
   "metadata": {},
   "outputs": [
    {
     "data": {
      "text/plain": "[{'id': 76001,\n  'full_name': 'Alaa Abdelnaby',\n  'first_name': 'Alaa',\n  'last_name': 'Abdelnaby',\n  'is_active': False},\n {'id': 76002,\n  'full_name': 'Zaid Abdul-Aziz',\n  'first_name': 'Zaid',\n  'last_name': 'Abdul-Aziz',\n  'is_active': False},\n {'id': 76003,\n  'full_name': 'Kareem Abdul-Jabbar',\n  'first_name': 'Kareem',\n  'last_name': 'Abdul-Jabbar',\n  'is_active': False}]"
     },
     "execution_count": 7,
     "metadata": {},
     "output_type": "execute_result"
    }
   ],
   "source": [
    "nbaPlayers[0:3]"
   ]
  },
  {
   "cell_type": "code",
   "execution_count": 8,
   "metadata": {},
   "outputs": [
    {
     "data": {
      "text/plain": "[{'id': 203552,\n  'full_name': 'Seth Curry',\n  'first_name': 'Seth',\n  'last_name': 'Curry',\n  'is_active': True},\n {'id': 201939,\n  'full_name': 'Stephen Curry',\n  'first_name': 'Stephen',\n  'last_name': 'Curry',\n  'is_active': True}]"
     },
     "execution_count": 8,
     "metadata": {},
     "output_type": "execute_result"
    }
   ],
   "source": [
    "activeCurries = [player for player in nbaPlayers \n",
    "                 if player['last_name'] == 'Curry' and \n",
    "                 player['is_active'] == True]\n",
    "activeCurries"
   ]
  },
  {
   "cell_type": "code",
   "execution_count": 9,
   "metadata": {},
   "outputs": [
    {
     "data": {
      "text/html": "<div>\n<style scoped>\n    .dataframe tbody tr th:only-of-type {\n        vertical-align: middle;\n    }\n\n    .dataframe tbody tr th {\n        vertical-align: top;\n    }\n\n    .dataframe thead th {\n        text-align: right;\n    }\n</style>\n<table border=\"1\" class=\"dataframe\">\n  <thead>\n    <tr style=\"text-align: right;\">\n      <th></th>\n      <th>Player</th>\n      <th>ID</th>\n    </tr>\n  </thead>\n  <tbody>\n    <tr>\n      <td>0</td>\n      <td>Seth Curry</td>\n      <td>203552</td>\n    </tr>\n    <tr>\n      <td>1</td>\n      <td>Stephen Curry</td>\n      <td>201939</td>\n    </tr>\n  </tbody>\n</table>\n</div>",
      "text/plain": "          Player      ID\n0     Seth Curry  203552\n1  Stephen Curry  201939"
     },
     "execution_count": 9,
     "metadata": {},
     "output_type": "execute_result"
    }
   ],
   "source": [
    "# Get all Player_ID values \n",
    "playerIDs = [(player['full_name'], player['id']) for player in nbaPlayers \n",
    "                 if player['last_name'] == 'Curry' and \n",
    "                 player['is_active'] == True]\n",
    "pd.DataFrame(playerIDs, columns = ['Player','ID'])"
   ]
  },
  {
   "cell_type": "code",
   "execution_count": 11,
   "metadata": {},
   "outputs": [
    {
     "ename": "NameError",
     "evalue": "name 'playerDict' is not defined",
     "output_type": "error",
     "traceback": [
      "\u001b[1;31m---------------------------------------------------------------------------\u001b[0m",
      "\u001b[1;31mNameError\u001b[0m                                 Traceback (most recent call last)",
      "\u001b[1;32m<ipython-input-11-5903dd8c4c34>\u001b[0m in \u001b[0;36m<module>\u001b[1;34m\u001b[0m\n\u001b[1;32m----> 1\u001b[1;33m \u001b[0mcurPlayer\u001b[0m \u001b[1;33m=\u001b[0m \u001b[1;33m[\u001b[0m\u001b[0mplayer\u001b[0m \u001b[1;32mfor\u001b[0m \u001b[0mplayer\u001b[0m \u001b[1;32min\u001b[0m \u001b[0mplayerDict\u001b[0m \u001b[1;32mif\u001b[0m \u001b[0mplayer\u001b[0m\u001b[1;33m[\u001b[0m\u001b[1;34m'full_name'\u001b[0m\u001b[1;33m]\u001b[0m \u001b[1;33m==\u001b[0m \u001b[0mplayerName\u001b[0m\u001b[1;33m]\u001b[0m\u001b[1;33m\u001b[0m\u001b[1;33m\u001b[0m\u001b[0m\n\u001b[0m",
      "\u001b[1;31mNameError\u001b[0m: name 'playerDict' is not defined"
     ]
    }
   ],
   "source": [
    "curPlayer = [player for player in playerDict if player['full_name'] == playerName]"
   ]
  },
  {
   "cell_type": "code",
   "execution_count": 13,
   "metadata": {},
   "outputs": [
    {
     "data": {
      "text/html": "<div>\n<style scoped>\n    .dataframe tbody tr th:only-of-type {\n        vertical-align: middle;\n    }\n\n    .dataframe tbody tr th {\n        vertical-align: top;\n    }\n\n    .dataframe thead th {\n        text-align: right;\n    }\n</style>\n<table border=\"1\" class=\"dataframe\">\n  <thead>\n    <tr style=\"text-align: right;\">\n      <th></th>\n    </tr>\n  </thead>\n  <tbody>\n  </tbody>\n</table>\n</div>",
      "text/plain": "Empty DataFrame\nColumns: []\nIndex: []"
     },
     "execution_count": 13,
     "metadata": {},
     "output_type": "execute_result"
    }
   ],
   "source": [
    "pd.DataFrame()"
   ]
  },
  {
   "cell_type": "code",
   "execution_count": 47,
   "metadata": {},
   "outputs": [],
   "source": [
    "# Pings the nba_api for a player across one or more seasons.\n",
    "#   - playerName (string): player's full name in the nba_api db.\n",
    "class PlayerStats():\n",
    "    def __init__( self, playerName ):\n",
    "        self.playerName = playerName\n",
    "        self.playerLogData = pd.DataFrame()\n",
    "        self.seasons = list()\n",
    "\n",
    "    # Get the game log for a certain player, based on their full name, across certain seasons.\n",
    "    #   - seasons (list of integers): seasons to pull game log data on.\n",
    "    #   - \n",
    "    def GetPlayerGameLog( self, seasons, players ):\n",
    "        playerDict = players.get_players()\n",
    "        curPlayer = [player for player in playerDict if player['full_name'] == playerName]\n",
    "        \n",
    "        playerLog = list()\n",
    "        for curSeason in seasons:\n",
    "            # Ping API separately for each season and extract response dataframe.\n",
    "            playerLog.append( playergamelog.PlayerGameLog( player_id = curPlayer[0]['id'], season = curSeason ).get_data_frames()[0] )\n",
    "        \n",
    "        # Combine all seasons.\n",
    "        playerLog = pd.concat(playerLog)\n",
    "        # Add player name.\n",
    "        playerLog = playerLog.assign( Player_Name = curPlayer[0]['full_name']  )\n",
    "        self.playerLogData = playerLog\n",
    "        self.seasons = seasons\n"
   ]
  },
  {
   "cell_type": "code",
   "execution_count": 48,
   "metadata": {},
   "outputs": [],
   "source": [
    "LukaDoncicStats = PlayerStats(playerName = 'Luka Doncic' )"
   ]
  },
  {
   "cell_type": "code",
   "execution_count": 49,
   "metadata": {},
   "outputs": [],
   "source": [
    "LukaDoncicStats.GetPlayerGameLog(seasons=[2018,2019,2020],players=players)"
   ]
  },
  {
   "cell_type": "code",
   "execution_count": 50,
   "metadata": {},
   "outputs": [
    {
     "data": {
      "text/plain": "[2018, 2019, 2020]"
     },
     "execution_count": 50,
     "metadata": {},
     "output_type": "execute_result"
    }
   ],
   "source": [
    "LukaDoncicStats.seasons"
   ]
  },
  {
   "cell_type": "code",
   "execution_count": 51,
   "metadata": {},
   "outputs": [
    {
     "data": {
      "text/html": "<div>\n<style scoped>\n    .dataframe tbody tr th:only-of-type {\n        vertical-align: middle;\n    }\n\n    .dataframe tbody tr th {\n        vertical-align: top;\n    }\n\n    .dataframe thead th {\n        text-align: right;\n    }\n</style>\n<table border=\"1\" class=\"dataframe\">\n  <thead>\n    <tr style=\"text-align: right;\">\n      <th></th>\n      <th>SEASON_ID</th>\n      <th>Player_ID</th>\n      <th>Game_ID</th>\n      <th>GAME_DATE</th>\n      <th>MATCHUP</th>\n      <th>WL</th>\n      <th>MIN</th>\n      <th>FGM</th>\n      <th>FGA</th>\n      <th>FG_PCT</th>\n      <th>...</th>\n      <th>REB</th>\n      <th>AST</th>\n      <th>STL</th>\n      <th>BLK</th>\n      <th>TOV</th>\n      <th>PF</th>\n      <th>PTS</th>\n      <th>PLUS_MINUS</th>\n      <th>VIDEO_AVAILABLE</th>\n      <th>Player_Name</th>\n    </tr>\n  </thead>\n  <tbody>\n    <tr>\n      <td>0</td>\n      <td>22018</td>\n      <td>1629029</td>\n      <td>0021801216</td>\n      <td>APR 09, 2019</td>\n      <td>DAL vs. PHX</td>\n      <td>W</td>\n      <td>32</td>\n      <td>6</td>\n      <td>14</td>\n      <td>0.429</td>\n      <td>...</td>\n      <td>16</td>\n      <td>11</td>\n      <td>3</td>\n      <td>0</td>\n      <td>4</td>\n      <td>1</td>\n      <td>21</td>\n      <td>15</td>\n      <td>1</td>\n      <td>Luka Doncic</td>\n    </tr>\n    <tr>\n      <td>1</td>\n      <td>22018</td>\n      <td>1629029</td>\n      <td>0021801172</td>\n      <td>APR 03, 2019</td>\n      <td>DAL vs. MIN</td>\n      <td>L</td>\n      <td>32</td>\n      <td>11</td>\n      <td>21</td>\n      <td>0.524</td>\n      <td>...</td>\n      <td>12</td>\n      <td>6</td>\n      <td>0</td>\n      <td>1</td>\n      <td>4</td>\n      <td>1</td>\n      <td>27</td>\n      <td>-15</td>\n      <td>1</td>\n      <td>Luka Doncic</td>\n    </tr>\n    <tr>\n      <td>2</td>\n      <td>22018</td>\n      <td>1629029</td>\n      <td>0021801124</td>\n      <td>MAR 28, 2019</td>\n      <td>DAL @ MIA</td>\n      <td>L</td>\n      <td>31</td>\n      <td>6</td>\n      <td>18</td>\n      <td>0.333</td>\n      <td>...</td>\n      <td>8</td>\n      <td>7</td>\n      <td>0</td>\n      <td>0</td>\n      <td>6</td>\n      <td>4</td>\n      <td>19</td>\n      <td>-8</td>\n      <td>1</td>\n      <td>Luka Doncic</td>\n    </tr>\n    <tr>\n      <td>3</td>\n      <td>22018</td>\n      <td>1629029</td>\n      <td>0021801114</td>\n      <td>MAR 26, 2019</td>\n      <td>DAL vs. SAC</td>\n      <td>L</td>\n      <td>36</td>\n      <td>9</td>\n      <td>20</td>\n      <td>0.450</td>\n      <td>...</td>\n      <td>12</td>\n      <td>12</td>\n      <td>0</td>\n      <td>0</td>\n      <td>4</td>\n      <td>2</td>\n      <td>28</td>\n      <td>-7</td>\n      <td>1</td>\n      <td>Luka Doncic</td>\n    </tr>\n    <tr>\n      <td>4</td>\n      <td>22018</td>\n      <td>1629029</td>\n      <td>0021801092</td>\n      <td>MAR 23, 2019</td>\n      <td>DAL @ GSW</td>\n      <td>W</td>\n      <td>27</td>\n      <td>6</td>\n      <td>14</td>\n      <td>0.429</td>\n      <td>...</td>\n      <td>11</td>\n      <td>10</td>\n      <td>3</td>\n      <td>0</td>\n      <td>3</td>\n      <td>3</td>\n      <td>23</td>\n      <td>29</td>\n      <td>1</td>\n      <td>Luka Doncic</td>\n    </tr>\n    <tr>\n      <td>...</td>\n      <td>...</td>\n      <td>...</td>\n      <td>...</td>\n      <td>...</td>\n      <td>...</td>\n      <td>...</td>\n      <td>...</td>\n      <td>...</td>\n      <td>...</td>\n      <td>...</td>\n      <td>...</td>\n      <td>...</td>\n      <td>...</td>\n      <td>...</td>\n      <td>...</td>\n      <td>...</td>\n      <td>...</td>\n      <td>...</td>\n      <td>...</td>\n      <td>...</td>\n      <td>...</td>\n    </tr>\n    <tr>\n      <td>61</td>\n      <td>22020</td>\n      <td>1629029</td>\n      <td>0022000071</td>\n      <td>JAN 01, 2021</td>\n      <td>DAL vs. MIA</td>\n      <td>W</td>\n      <td>36</td>\n      <td>9</td>\n      <td>22</td>\n      <td>0.409</td>\n      <td>...</td>\n      <td>15</td>\n      <td>7</td>\n      <td>0</td>\n      <td>1</td>\n      <td>5</td>\n      <td>2</td>\n      <td>27</td>\n      <td>12</td>\n      <td>1</td>\n      <td>Luka Doncic</td>\n    </tr>\n    <tr>\n      <td>62</td>\n      <td>22020</td>\n      <td>1629029</td>\n      <td>0022000059</td>\n      <td>DEC 30, 2020</td>\n      <td>DAL vs. CHA</td>\n      <td>L</td>\n      <td>24</td>\n      <td>4</td>\n      <td>10</td>\n      <td>0.400</td>\n      <td>...</td>\n      <td>2</td>\n      <td>5</td>\n      <td>2</td>\n      <td>0</td>\n      <td>3</td>\n      <td>3</td>\n      <td>12</td>\n      <td>-27</td>\n      <td>1</td>\n      <td>Luka Doncic</td>\n    </tr>\n    <tr>\n      <td>63</td>\n      <td>22020</td>\n      <td>1629029</td>\n      <td>0022000031</td>\n      <td>DEC 27, 2020</td>\n      <td>DAL @ LAC</td>\n      <td>W</td>\n      <td>26</td>\n      <td>8</td>\n      <td>18</td>\n      <td>0.444</td>\n      <td>...</td>\n      <td>9</td>\n      <td>8</td>\n      <td>1</td>\n      <td>0</td>\n      <td>2</td>\n      <td>0</td>\n      <td>24</td>\n      <td>29</td>\n      <td>1</td>\n      <td>Luka Doncic</td>\n    </tr>\n    <tr>\n      <td>64</td>\n      <td>22020</td>\n      <td>1629029</td>\n      <td>0022000008</td>\n      <td>DEC 25, 2020</td>\n      <td>DAL @ LAL</td>\n      <td>L</td>\n      <td>34</td>\n      <td>9</td>\n      <td>19</td>\n      <td>0.474</td>\n      <td>...</td>\n      <td>4</td>\n      <td>7</td>\n      <td>0</td>\n      <td>1</td>\n      <td>3</td>\n      <td>0</td>\n      <td>27</td>\n      <td>-14</td>\n      <td>1</td>\n      <td>Luka Doncic</td>\n    </tr>\n    <tr>\n      <td>65</td>\n      <td>22020</td>\n      <td>1629029</td>\n      <td>0022000004</td>\n      <td>DEC 23, 2020</td>\n      <td>DAL @ PHX</td>\n      <td>L</td>\n      <td>36</td>\n      <td>11</td>\n      <td>26</td>\n      <td>0.423</td>\n      <td>...</td>\n      <td>8</td>\n      <td>5</td>\n      <td>0</td>\n      <td>0</td>\n      <td>1</td>\n      <td>2</td>\n      <td>32</td>\n      <td>-9</td>\n      <td>1</td>\n      <td>Luka Doncic</td>\n    </tr>\n  </tbody>\n</table>\n<p>199 rows × 28 columns</p>\n</div>",
      "text/plain": "   SEASON_ID  Player_ID     Game_ID     GAME_DATE      MATCHUP WL  MIN  FGM  \\\n0      22018    1629029  0021801216  APR 09, 2019  DAL vs. PHX  W   32    6   \n1      22018    1629029  0021801172  APR 03, 2019  DAL vs. MIN  L   32   11   \n2      22018    1629029  0021801124  MAR 28, 2019    DAL @ MIA  L   31    6   \n3      22018    1629029  0021801114  MAR 26, 2019  DAL vs. SAC  L   36    9   \n4      22018    1629029  0021801092  MAR 23, 2019    DAL @ GSW  W   27    6   \n..       ...        ...         ...           ...          ... ..  ...  ...   \n61     22020    1629029  0022000071  JAN 01, 2021  DAL vs. MIA  W   36    9   \n62     22020    1629029  0022000059  DEC 30, 2020  DAL vs. CHA  L   24    4   \n63     22020    1629029  0022000031  DEC 27, 2020    DAL @ LAC  W   26    8   \n64     22020    1629029  0022000008  DEC 25, 2020    DAL @ LAL  L   34    9   \n65     22020    1629029  0022000004  DEC 23, 2020    DAL @ PHX  L   36   11   \n\n    FGA  FG_PCT  ...  REB  AST  STL  BLK  TOV  PF  PTS  PLUS_MINUS  \\\n0    14   0.429  ...   16   11    3    0    4   1   21          15   \n1    21   0.524  ...   12    6    0    1    4   1   27         -15   \n2    18   0.333  ...    8    7    0    0    6   4   19          -8   \n3    20   0.450  ...   12   12    0    0    4   2   28          -7   \n4    14   0.429  ...   11   10    3    0    3   3   23          29   \n..  ...     ...  ...  ...  ...  ...  ...  ...  ..  ...         ...   \n61   22   0.409  ...   15    7    0    1    5   2   27          12   \n62   10   0.400  ...    2    5    2    0    3   3   12         -27   \n63   18   0.444  ...    9    8    1    0    2   0   24          29   \n64   19   0.474  ...    4    7    0    1    3   0   27         -14   \n65   26   0.423  ...    8    5    0    0    1   2   32          -9   \n\n    VIDEO_AVAILABLE  Player_Name  \n0                 1  Luka Doncic  \n1                 1  Luka Doncic  \n2                 1  Luka Doncic  \n3                 1  Luka Doncic  \n4                 1  Luka Doncic  \n..              ...          ...  \n61                1  Luka Doncic  \n62                1  Luka Doncic  \n63                1  Luka Doncic  \n64                1  Luka Doncic  \n65                1  Luka Doncic  \n\n[199 rows x 28 columns]"
     },
     "execution_count": 51,
     "metadata": {},
     "output_type": "execute_result"
    }
   ],
   "source": [
    "LukaDoncicStats.playerLogData"
   ]
  },
  {
   "cell_type": "code",
   "execution_count": 26,
   "metadata": {},
   "outputs": [],
   "source": [
    "playerName = 'Luka Doncic'\n",
    "seasons = [2018,2019,2020] # Must be a list to allow iteration.\n",
    "playerDict = players.get_players()\n",
    "curPlayer = [player for player in playerDict if player['full_name'] == playerName]\n",
    "\n",
    "playerLog = list()\n",
    "for curSeason in seasons:\n",
    "    # Ping API separately for each season and extract response dataframe.\n",
    "    playerLog.append( playergamelog.PlayerGameLog( player_id = curPlayer[0]['id'], season = curSeason ).get_data_frames()[0] )\n",
    "\n",
    "playerLog = pd.concat(playerLog)\n",
    "# Add player name.\n",
    "playerLog = playerLog.assign( Player_Name = curPlayer[0]['full_name']  )"
   ]
  },
  {
   "cell_type": "code",
   "execution_count": 50,
   "metadata": {},
   "outputs": [
    {
     "data": {
      "text/html": [
       "<div>\n",
       "<style scoped>\n",
       "    .dataframe tbody tr th:only-of-type {\n",
       "        vertical-align: middle;\n",
       "    }\n",
       "\n",
       "    .dataframe tbody tr th {\n",
       "        vertical-align: top;\n",
       "    }\n",
       "\n",
       "    .dataframe thead th {\n",
       "        text-align: right;\n",
       "    }\n",
       "</style>\n",
       "<table border=\"1\" class=\"dataframe\">\n",
       "  <thead>\n",
       "    <tr style=\"text-align: right;\">\n",
       "      <th></th>\n",
       "      <th>SEASON_ID</th>\n",
       "      <th>Player_ID</th>\n",
       "      <th>Game_ID</th>\n",
       "      <th>GAME_DATE</th>\n",
       "      <th>MATCHUP</th>\n",
       "      <th>WL</th>\n",
       "      <th>MIN</th>\n",
       "      <th>FGM</th>\n",
       "      <th>FGA</th>\n",
       "      <th>FG_PCT</th>\n",
       "      <th>...</th>\n",
       "      <th>DREB</th>\n",
       "      <th>REB</th>\n",
       "      <th>AST</th>\n",
       "      <th>STL</th>\n",
       "      <th>BLK</th>\n",
       "      <th>TOV</th>\n",
       "      <th>PF</th>\n",
       "      <th>PTS</th>\n",
       "      <th>PLUS_MINUS</th>\n",
       "      <th>VIDEO_AVAILABLE</th>\n",
       "    </tr>\n",
       "  </thead>\n",
       "  <tbody>\n",
       "    <tr>\n",
       "      <td>0</td>\n",
       "      <td>22018</td>\n",
       "      <td>1629029</td>\n",
       "      <td>0021801216</td>\n",
       "      <td>APR 09, 2019</td>\n",
       "      <td>DAL vs. PHX</td>\n",
       "      <td>W</td>\n",
       "      <td>32</td>\n",
       "      <td>6</td>\n",
       "      <td>14</td>\n",
       "      <td>0.429</td>\n",
       "      <td>...</td>\n",
       "      <td>13</td>\n",
       "      <td>16</td>\n",
       "      <td>11</td>\n",
       "      <td>3</td>\n",
       "      <td>0</td>\n",
       "      <td>4</td>\n",
       "      <td>1</td>\n",
       "      <td>21</td>\n",
       "      <td>15</td>\n",
       "      <td>1</td>\n",
       "    </tr>\n",
       "    <tr>\n",
       "      <td>1</td>\n",
       "      <td>22018</td>\n",
       "      <td>1629029</td>\n",
       "      <td>0021801172</td>\n",
       "      <td>APR 03, 2019</td>\n",
       "      <td>DAL vs. MIN</td>\n",
       "      <td>L</td>\n",
       "      <td>32</td>\n",
       "      <td>11</td>\n",
       "      <td>21</td>\n",
       "      <td>0.524</td>\n",
       "      <td>...</td>\n",
       "      <td>8</td>\n",
       "      <td>12</td>\n",
       "      <td>6</td>\n",
       "      <td>0</td>\n",
       "      <td>1</td>\n",
       "      <td>4</td>\n",
       "      <td>1</td>\n",
       "      <td>27</td>\n",
       "      <td>-15</td>\n",
       "      <td>1</td>\n",
       "    </tr>\n",
       "    <tr>\n",
       "      <td>2</td>\n",
       "      <td>22018</td>\n",
       "      <td>1629029</td>\n",
       "      <td>0021801124</td>\n",
       "      <td>MAR 28, 2019</td>\n",
       "      <td>DAL @ MIA</td>\n",
       "      <td>L</td>\n",
       "      <td>31</td>\n",
       "      <td>6</td>\n",
       "      <td>18</td>\n",
       "      <td>0.333</td>\n",
       "      <td>...</td>\n",
       "      <td>8</td>\n",
       "      <td>8</td>\n",
       "      <td>7</td>\n",
       "      <td>0</td>\n",
       "      <td>0</td>\n",
       "      <td>6</td>\n",
       "      <td>4</td>\n",
       "      <td>19</td>\n",
       "      <td>-8</td>\n",
       "      <td>1</td>\n",
       "    </tr>\n",
       "    <tr>\n",
       "      <td>3</td>\n",
       "      <td>22018</td>\n",
       "      <td>1629029</td>\n",
       "      <td>0021801114</td>\n",
       "      <td>MAR 26, 2019</td>\n",
       "      <td>DAL vs. SAC</td>\n",
       "      <td>L</td>\n",
       "      <td>36</td>\n",
       "      <td>9</td>\n",
       "      <td>20</td>\n",
       "      <td>0.450</td>\n",
       "      <td>...</td>\n",
       "      <td>11</td>\n",
       "      <td>12</td>\n",
       "      <td>12</td>\n",
       "      <td>0</td>\n",
       "      <td>0</td>\n",
       "      <td>4</td>\n",
       "      <td>2</td>\n",
       "      <td>28</td>\n",
       "      <td>-7</td>\n",
       "      <td>1</td>\n",
       "    </tr>\n",
       "    <tr>\n",
       "      <td>4</td>\n",
       "      <td>22018</td>\n",
       "      <td>1629029</td>\n",
       "      <td>0021801092</td>\n",
       "      <td>MAR 23, 2019</td>\n",
       "      <td>DAL @ GSW</td>\n",
       "      <td>W</td>\n",
       "      <td>27</td>\n",
       "      <td>6</td>\n",
       "      <td>14</td>\n",
       "      <td>0.429</td>\n",
       "      <td>...</td>\n",
       "      <td>10</td>\n",
       "      <td>11</td>\n",
       "      <td>10</td>\n",
       "      <td>3</td>\n",
       "      <td>0</td>\n",
       "      <td>3</td>\n",
       "      <td>3</td>\n",
       "      <td>23</td>\n",
       "      <td>29</td>\n",
       "      <td>1</td>\n",
       "    </tr>\n",
       "    <tr>\n",
       "      <td>...</td>\n",
       "      <td>...</td>\n",
       "      <td>...</td>\n",
       "      <td>...</td>\n",
       "      <td>...</td>\n",
       "      <td>...</td>\n",
       "      <td>...</td>\n",
       "      <td>...</td>\n",
       "      <td>...</td>\n",
       "      <td>...</td>\n",
       "      <td>...</td>\n",
       "      <td>...</td>\n",
       "      <td>...</td>\n",
       "      <td>...</td>\n",
       "      <td>...</td>\n",
       "      <td>...</td>\n",
       "      <td>...</td>\n",
       "      <td>...</td>\n",
       "      <td>...</td>\n",
       "      <td>...</td>\n",
       "      <td>...</td>\n",
       "      <td>...</td>\n",
       "    </tr>\n",
       "    <tr>\n",
       "      <td>61</td>\n",
       "      <td>22020</td>\n",
       "      <td>1629029</td>\n",
       "      <td>0022000071</td>\n",
       "      <td>JAN 01, 2021</td>\n",
       "      <td>DAL vs. MIA</td>\n",
       "      <td>W</td>\n",
       "      <td>36</td>\n",
       "      <td>9</td>\n",
       "      <td>22</td>\n",
       "      <td>0.409</td>\n",
       "      <td>...</td>\n",
       "      <td>14</td>\n",
       "      <td>15</td>\n",
       "      <td>7</td>\n",
       "      <td>0</td>\n",
       "      <td>1</td>\n",
       "      <td>5</td>\n",
       "      <td>2</td>\n",
       "      <td>27</td>\n",
       "      <td>12</td>\n",
       "      <td>1</td>\n",
       "    </tr>\n",
       "    <tr>\n",
       "      <td>62</td>\n",
       "      <td>22020</td>\n",
       "      <td>1629029</td>\n",
       "      <td>0022000059</td>\n",
       "      <td>DEC 30, 2020</td>\n",
       "      <td>DAL vs. CHA</td>\n",
       "      <td>L</td>\n",
       "      <td>24</td>\n",
       "      <td>4</td>\n",
       "      <td>10</td>\n",
       "      <td>0.400</td>\n",
       "      <td>...</td>\n",
       "      <td>2</td>\n",
       "      <td>2</td>\n",
       "      <td>5</td>\n",
       "      <td>2</td>\n",
       "      <td>0</td>\n",
       "      <td>3</td>\n",
       "      <td>3</td>\n",
       "      <td>12</td>\n",
       "      <td>-27</td>\n",
       "      <td>1</td>\n",
       "    </tr>\n",
       "    <tr>\n",
       "      <td>63</td>\n",
       "      <td>22020</td>\n",
       "      <td>1629029</td>\n",
       "      <td>0022000031</td>\n",
       "      <td>DEC 27, 2020</td>\n",
       "      <td>DAL @ LAC</td>\n",
       "      <td>W</td>\n",
       "      <td>26</td>\n",
       "      <td>8</td>\n",
       "      <td>18</td>\n",
       "      <td>0.444</td>\n",
       "      <td>...</td>\n",
       "      <td>9</td>\n",
       "      <td>9</td>\n",
       "      <td>8</td>\n",
       "      <td>1</td>\n",
       "      <td>0</td>\n",
       "      <td>2</td>\n",
       "      <td>0</td>\n",
       "      <td>24</td>\n",
       "      <td>29</td>\n",
       "      <td>1</td>\n",
       "    </tr>\n",
       "    <tr>\n",
       "      <td>64</td>\n",
       "      <td>22020</td>\n",
       "      <td>1629029</td>\n",
       "      <td>0022000008</td>\n",
       "      <td>DEC 25, 2020</td>\n",
       "      <td>DAL @ LAL</td>\n",
       "      <td>L</td>\n",
       "      <td>34</td>\n",
       "      <td>9</td>\n",
       "      <td>19</td>\n",
       "      <td>0.474</td>\n",
       "      <td>...</td>\n",
       "      <td>4</td>\n",
       "      <td>4</td>\n",
       "      <td>7</td>\n",
       "      <td>0</td>\n",
       "      <td>1</td>\n",
       "      <td>3</td>\n",
       "      <td>0</td>\n",
       "      <td>27</td>\n",
       "      <td>-14</td>\n",
       "      <td>1</td>\n",
       "    </tr>\n",
       "    <tr>\n",
       "      <td>65</td>\n",
       "      <td>22020</td>\n",
       "      <td>1629029</td>\n",
       "      <td>0022000004</td>\n",
       "      <td>DEC 23, 2020</td>\n",
       "      <td>DAL @ PHX</td>\n",
       "      <td>L</td>\n",
       "      <td>36</td>\n",
       "      <td>11</td>\n",
       "      <td>26</td>\n",
       "      <td>0.423</td>\n",
       "      <td>...</td>\n",
       "      <td>6</td>\n",
       "      <td>8</td>\n",
       "      <td>5</td>\n",
       "      <td>0</td>\n",
       "      <td>0</td>\n",
       "      <td>1</td>\n",
       "      <td>2</td>\n",
       "      <td>32</td>\n",
       "      <td>-9</td>\n",
       "      <td>1</td>\n",
       "    </tr>\n",
       "  </tbody>\n",
       "</table>\n",
       "<p>199 rows × 27 columns</p>\n",
       "</div>"
      ],
      "text/plain": [
       "   SEASON_ID  Player_ID     Game_ID     GAME_DATE      MATCHUP WL  MIN  FGM  \\\n",
       "0      22018    1629029  0021801216  APR 09, 2019  DAL vs. PHX  W   32    6   \n",
       "1      22018    1629029  0021801172  APR 03, 2019  DAL vs. MIN  L   32   11   \n",
       "2      22018    1629029  0021801124  MAR 28, 2019    DAL @ MIA  L   31    6   \n",
       "3      22018    1629029  0021801114  MAR 26, 2019  DAL vs. SAC  L   36    9   \n",
       "4      22018    1629029  0021801092  MAR 23, 2019    DAL @ GSW  W   27    6   \n",
       "..       ...        ...         ...           ...          ... ..  ...  ...   \n",
       "61     22020    1629029  0022000071  JAN 01, 2021  DAL vs. MIA  W   36    9   \n",
       "62     22020    1629029  0022000059  DEC 30, 2020  DAL vs. CHA  L   24    4   \n",
       "63     22020    1629029  0022000031  DEC 27, 2020    DAL @ LAC  W   26    8   \n",
       "64     22020    1629029  0022000008  DEC 25, 2020    DAL @ LAL  L   34    9   \n",
       "65     22020    1629029  0022000004  DEC 23, 2020    DAL @ PHX  L   36   11   \n",
       "\n",
       "    FGA  FG_PCT  ...  DREB  REB  AST  STL  BLK  TOV  PF  PTS  PLUS_MINUS  \\\n",
       "0    14   0.429  ...    13   16   11    3    0    4   1   21          15   \n",
       "1    21   0.524  ...     8   12    6    0    1    4   1   27         -15   \n",
       "2    18   0.333  ...     8    8    7    0    0    6   4   19          -8   \n",
       "3    20   0.450  ...    11   12   12    0    0    4   2   28          -7   \n",
       "4    14   0.429  ...    10   11   10    3    0    3   3   23          29   \n",
       "..  ...     ...  ...   ...  ...  ...  ...  ...  ...  ..  ...         ...   \n",
       "61   22   0.409  ...    14   15    7    0    1    5   2   27          12   \n",
       "62   10   0.400  ...     2    2    5    2    0    3   3   12         -27   \n",
       "63   18   0.444  ...     9    9    8    1    0    2   0   24          29   \n",
       "64   19   0.474  ...     4    4    7    0    1    3   0   27         -14   \n",
       "65   26   0.423  ...     6    8    5    0    0    1   2   32          -9   \n",
       "\n",
       "    VIDEO_AVAILABLE  \n",
       "0                 1  \n",
       "1                 1  \n",
       "2                 1  \n",
       "3                 1  \n",
       "4                 1  \n",
       "..              ...  \n",
       "61                1  \n",
       "62                1  \n",
       "63                1  \n",
       "64                1  \n",
       "65                1  \n",
       "\n",
       "[199 rows x 27 columns]"
      ]
     },
     "execution_count": 50,
     "metadata": {},
     "output_type": "execute_result"
    }
   ],
   "source": [
    "playerLog"
   ]
  },
  {
   "cell_type": "code",
   "execution_count": 13,
   "metadata": {},
   "outputs": [
    {
     "data": {
      "text/plain": [
       "Index(['SEASON_ID', 'Player_ID', 'Game_ID', 'GAME_DATE', 'MATCHUP', 'WL',\n",
       "       'MIN', 'FGM', 'FGA', 'FG_PCT', 'FG3M', 'FG3A', 'FG3_PCT', 'FTM', 'FTA',\n",
       "       'FT_PCT', 'OREB', 'DREB', 'REB', 'AST', 'STL', 'BLK', 'TOV', 'PF',\n",
       "       'PTS', 'PLUS_MINUS', 'VIDEO_AVAILABLE'],\n",
       "      dtype='object')"
      ]
     },
     "execution_count": 13,
     "metadata": {},
     "output_type": "execute_result"
    }
   ],
   "source": [
    "curPlayerData.columns"
   ]
  },
  {
   "cell_type": "code",
   "execution_count": 14,
   "metadata": {},
   "outputs": [],
   "source": [
    "# Theory is that players hunt for double doubles and triple doubles. Plot distribution of \n",
    "# rebounds when 10 points or more\n",
    "# assists when 10 points or more\n",
    "# assists when 10 points or more and 10 rebounds or more.\n",
    "# rebounds when 10 points or more and 10 assists or more."
   ]
  },
  {
   "cell_type": "code",
   "execution_count": 40,
   "metadata": {},
   "outputs": [],
   "source": [
    "# Rebounds when 10 points or more\n",
    "plotData = curPlayerData[curPlayerData['PTS'] >= 10]\n",
    "plotData = plotData[['REB']]"
   ]
  },
  {
   "cell_type": "code",
   "execution_count": 41,
   "metadata": {},
   "outputs": [
    {
     "data": {
      "image/png": "[encoded data removed]",
      "text/plain": [
       "<Figure size 432x288 with 1 Axes>"
      ]
     },
     "metadata": {
      "needs_background": "light"
     },
     "output_type": "display_data"
    }
   ],
   "source": [
    "plot = plotData.plot.hist(bins = list(range(1,20)))\n",
    "plot.locator_params(integer=True)"
   ]
  },
  {
   "cell_type": "code",
   "execution_count": 42,
   "metadata": {},
   "outputs": [],
   "source": [
    "# Assists when 10 points or more\n",
    "plotData = curPlayerData[curPlayerData['PTS'] >= 10]\n",
    "plotData = plotData[['AST']]"
   ]
  },
  {
   "cell_type": "code",
   "execution_count": 43,
   "metadata": {},
   "outputs": [
    {
     "data": {
      "image/png": "[encoded data removed]",
      "text/plain": [
       "<Figure size 432x288 with 1 Axes>"
      ]
     },
     "metadata": {
      "needs_background": "light"
     },
     "output_type": "display_data"
    }
   ],
   "source": [
    "plot = plotData.plot.hist(bins = list(range(1,20)))\n",
    "plot.locator_params(integer=True)"
   ]
  },
  {
   "cell_type": "code",
   "execution_count": 44,
   "metadata": {},
   "outputs": [],
   "source": [
    "# rebounds when 10 points or more and 10 assists or more.\n",
    "plotData = curPlayerData[(curPlayerData['PTS'] >= 10) & (curPlayerData['AST'] >= 10) ]\n",
    "plotData = plotData[['REB']]"
   ]
  },
  {
   "cell_type": "code",
   "execution_count": 45,
   "metadata": {},
   "outputs": [
    {
     "data": {
      "image/png": "[encoded data removed]",
      "text/plain": [
       "<Figure size 432x288 with 1 Axes>"
      ]
     },
     "metadata": {
      "needs_background": "light"
     },
     "output_type": "display_data"
    }
   ],
   "source": [
    "plot = plotData.plot.hist(bins = list(range(1,20)))\n",
    "plot.locator_params(integer=True)"
   ]
  },
  {
   "cell_type": "code",
   "execution_count": 46,
   "metadata": {},
   "outputs": [],
   "source": [
    "# Assists when 10 points or more and 10 rebounds or more.\n",
    "plotData = curPlayerData[(curPlayerData['PTS'] >= 10) & (curPlayerData['REB'] >= 10) ]\n",
    "plotData = plotData[['AST']]"
   ]
  },
  {
   "cell_type": "code",
   "execution_count": 47,
   "metadata": {},
   "outputs": [
    {
     "data": {
      "image/png": "[encoded data removed]",
      "text/plain": [
       "<Figure size 432x288 with 1 Axes>"
      ]
     },
     "metadata": {
      "needs_background": "light"
     },
     "output_type": "display_data"
    }
   ],
   "source": [
    "plot = plotData.plot.hist(bins = list(range(1,20)))\n",
    "plot.locator_params(integer=True)"
   ]
  },
  {
   "cell_type": "code",
   "execution_count": 48,
   "metadata": {},
   "outputs": [],
   "source": [
    "# Get data on all active players and see if there's clustering around certain points totals.\n"
   ]
  },
  {
   "cell_type": "code",
   "execution_count": null,
   "metadata": {},
   "outputs": [],
   "source": []
  }
 ],
 "metadata": {
  "kernelspec": {
   "display_name": "Python 3",
   "language": "python",
   "name": "python3"
  },
  "language_info": {
   "codemirror_mode": {
    "name": "ipython",
    "version": 3
   },
   "file_extension": ".py",
   "mimetype": "text/x-python",
   "name": "python",
   "nbconvert_exporter": "python",
   "pygments_lexer": "ipython3",
   "version": "3.7.4-final"
  }
 },
 "nbformat": 4,
 "nbformat_minor": 2
}