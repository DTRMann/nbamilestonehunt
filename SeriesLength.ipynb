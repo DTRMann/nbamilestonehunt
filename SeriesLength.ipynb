{
 "cells": [
  {
   "cell_type": "code",
   "execution_count": 54,
   "metadata": {},
   "outputs": [],
   "source": [
    "import numpy as np\n",
    "import pandas as pd\n",
    "import matplotlib\n",
    "import os"
   ]
  },
  {
   "cell_type": "code",
   "execution_count": 56,
   "metadata": {},
   "outputs": [],
   "source": [
    "import nba_api\n",
    "from nba_api.stats.static import teams\n",
    "from nba_api.stats.library.http import NBAStatsHTTP\n",
    "from nba_api.stats.library.parameters import LeagueID, Season"
   ]
  },
  {
   "cell_type": "code",
   "execution_count": 57,
   "metadata": {},
   "outputs": [],
   "source": [
    "from nba_api.stats.endpoints import commonplayoffseries"
   ]
  },
  {
   "cell_type": "code",
   "execution_count": 67,
   "metadata": {},
   "outputs": [],
   "source": [
    "from nba_api.stats.endpoints import teamdetails"
   ]
  },
  {
   "cell_type": "code",
   "execution_count": null,
   "metadata": {},
   "outputs": [],
   "source": [
    "# Get all playoff series from 2003 (when the first round was increased to 7 games) until present. "
   ]
  },
  {
   "cell_type": "code",
   "execution_count": 68,
   "metadata": {},
   "outputs": [
    {
     "data": {
      "text/html": [
       "<div>\n",
       "<style scoped>\n",
       "    .dataframe tbody tr th:only-of-type {\n",
       "        vertical-align: middle;\n",
       "    }\n",
       "\n",
       "    .dataframe tbody tr th {\n",
       "        vertical-align: top;\n",
       "    }\n",
       "\n",
       "    .dataframe thead th {\n",
       "        text-align: right;\n",
       "    }\n",
       "</style>\n",
       "<table border=\"1\" class=\"dataframe\">\n",
       "  <thead>\n",
       "    <tr style=\"text-align: right;\">\n",
       "      <th></th>\n",
       "      <th>GAME_ID</th>\n",
       "      <th>HOME_TEAM_ID</th>\n",
       "      <th>VISITOR_TEAM_ID</th>\n",
       "      <th>SERIES_ID</th>\n",
       "      <th>GAME_NUM</th>\n",
       "    </tr>\n",
       "  </thead>\n",
       "  <tbody>\n",
       "    <tr>\n",
       "      <td>0</td>\n",
       "      <td>0049000001</td>\n",
       "      <td>1610612749</td>\n",
       "      <td>1610612755</td>\n",
       "      <td>004900000</td>\n",
       "      <td>1</td>\n",
       "    </tr>\n",
       "    <tr>\n",
       "      <td>1</td>\n",
       "      <td>0049000002</td>\n",
       "      <td>1610612759</td>\n",
       "      <td>1610612744</td>\n",
       "      <td>004900000</td>\n",
       "      <td>2</td>\n",
       "    </tr>\n",
       "    <tr>\n",
       "      <td>2</td>\n",
       "      <td>0049000003</td>\n",
       "      <td>1610612741</td>\n",
       "      <td>1610612752</td>\n",
       "      <td>004900000</td>\n",
       "      <td>3</td>\n",
       "    </tr>\n",
       "    <tr>\n",
       "      <td>3</td>\n",
       "      <td>0049000004</td>\n",
       "      <td>1610612756</td>\n",
       "      <td>1610612762</td>\n",
       "      <td>004900000</td>\n",
       "      <td>4</td>\n",
       "    </tr>\n",
       "    <tr>\n",
       "      <td>4</td>\n",
       "      <td>0049000005</td>\n",
       "      <td>1610612747</td>\n",
       "      <td>1610612745</td>\n",
       "      <td>004900000</td>\n",
       "      <td>5</td>\n",
       "    </tr>\n",
       "    <tr>\n",
       "      <td>...</td>\n",
       "      <td>...</td>\n",
       "      <td>...</td>\n",
       "      <td>...</td>\n",
       "      <td>...</td>\n",
       "      <td>...</td>\n",
       "    </tr>\n",
       "    <tr>\n",
       "      <td>63</td>\n",
       "      <td>0049000064</td>\n",
       "      <td>1610612741</td>\n",
       "      <td>1610612747</td>\n",
       "      <td>004900006</td>\n",
       "      <td>4</td>\n",
       "    </tr>\n",
       "    <tr>\n",
       "      <td>64</td>\n",
       "      <td>0049000065</td>\n",
       "      <td>1610612741</td>\n",
       "      <td>1610612747</td>\n",
       "      <td>004900006</td>\n",
       "      <td>5</td>\n",
       "    </tr>\n",
       "    <tr>\n",
       "      <td>65</td>\n",
       "      <td>0049000066</td>\n",
       "      <td>1610612747</td>\n",
       "      <td>1610612741</td>\n",
       "      <td>004900006</td>\n",
       "      <td>6</td>\n",
       "    </tr>\n",
       "    <tr>\n",
       "      <td>66</td>\n",
       "      <td>0049000067</td>\n",
       "      <td>1610612747</td>\n",
       "      <td>1610612741</td>\n",
       "      <td>004900006</td>\n",
       "      <td>7</td>\n",
       "    </tr>\n",
       "    <tr>\n",
       "      <td>67</td>\n",
       "      <td>0049000068</td>\n",
       "      <td>1610612747</td>\n",
       "      <td>1610612741</td>\n",
       "      <td>004900006</td>\n",
       "      <td>8</td>\n",
       "    </tr>\n",
       "  </tbody>\n",
       "</table>\n",
       "<p>68 rows × 5 columns</p>\n",
       "</div>"
      ],
      "text/plain": [
       "       GAME_ID  HOME_TEAM_ID  VISITOR_TEAM_ID  SERIES_ID  GAME_NUM\n",
       "0   0049000001    1610612749       1610612755  004900000         1\n",
       "1   0049000002    1610612759       1610612744  004900000         2\n",
       "2   0049000003    1610612741       1610612752  004900000         3\n",
       "3   0049000004    1610612756       1610612762  004900000         4\n",
       "4   0049000005    1610612747       1610612745  004900000         5\n",
       "..         ...           ...              ...        ...       ...\n",
       "63  0049000064    1610612741       1610612747  004900006         4\n",
       "64  0049000065    1610612741       1610612747  004900006         5\n",
       "65  0049000066    1610612747       1610612741  004900006         6\n",
       "66  0049000067    1610612747       1610612741  004900006         7\n",
       "67  0049000068    1610612747       1610612741  004900006         8\n",
       "\n",
       "[68 rows x 5 columns]"
      ]
     },
     "execution_count": 68,
     "metadata": {},
     "output_type": "execute_result"
    }
   ],
   "source": [
    "# Get info on all playoff games.\n",
    "playoffData = commonplayoffseries.CommonPlayoffSeries(league_id = '00', season = '1990')\n",
    "playoffData.data_sets[0].get_data_frame()"
   ]
  },
  {
   "cell_type": "code",
   "execution_count": null,
   "metadata": {},
   "outputs": [],
   "source": []
  },
  {
   "cell_type": "code",
   "execution_count": 66,
   "metadata": {},
   "outputs": [],
   "source": [
    "# Get current NBA teams\n",
    "nbaTeams = teams.get_teams()\n",
    "nbaTeams = pd.DataFrame(nbaTeams)"
   ]
  },
  {
   "cell_type": "code",
   "execution_count": 69,
   "metadata": {},
   "outputs": [
    {
     "ename": "AttributeError",
     "evalue": "module 'nba_api.stats.endpoints.teamdetails' has no attribute 'team_history'",
     "output_type": "error",
     "traceback": [
      "\u001b[1;31m---------------------------------------------------------------------------\u001b[0m",
      "\u001b[1;31mAttributeError\u001b[0m                            Traceback (most recent call last)",
      "\u001b[1;32m<ipython-input-69-8a6aeef77fc1>\u001b[0m in \u001b[0;36m<module>\u001b[1;34m\u001b[0m\n\u001b[1;32m----> 1\u001b[1;33m \u001b[0mteamInfo\u001b[0m \u001b[1;33m=\u001b[0m \u001b[0mteamdetails\u001b[0m\u001b[1;33m.\u001b[0m\u001b[0mteam_history\u001b[0m\u001b[1;33m\u001b[0m\u001b[1;33m\u001b[0m\u001b[0m\n\u001b[0m",
      "\u001b[1;31mAttributeError\u001b[0m: module 'nba_api.stats.endpoints.teamdetails' has no attribute 'team_history'"
     ]
    }
   ],
   "source": [
    "teamInfo = teamdetails.team_history"
   ]
  },
  {
   "cell_type": "code",
   "execution_count": null,
   "metadata": {},
   "outputs": [],
   "source": []
  }
 ],
 "metadata": {
  "kernelspec": {
   "display_name": "Python 3",
   "language": "python",
   "name": "python3"
  },
  "language_info": {
   "codemirror_mode": {
    "name": "ipython",
    "version": 3
   },
   "file_extension": ".py",
   "mimetype": "text/x-python",
   "name": "python",
   "nbconvert_exporter": "python",
   "pygments_lexer": "ipython3",
   "version": "3.7.4"
  }
 },
 "nbformat": 4,
 "nbformat_minor": 2
}
